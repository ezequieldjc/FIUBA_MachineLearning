{
 "cells": [
  {
   "cell_type": "markdown",
   "metadata": {
    "id": "YenH_9hJbFk1"
   },
   "source": [
    "# Perceptrón Multicapa\n",
    "\n",
    "---\n",
    "\n"
   ]
  },
  {
   "cell_type": "code",
   "execution_count": 1,
   "metadata": {
    "executionInfo": {
     "elapsed": 3323,
     "status": "ok",
     "timestamp": 1604964164457,
     "user": {
      "displayName": "Giseladaiana",
      "photoUrl": "https://lh3.googleusercontent.com/a-/AOh14GgnvSUvepKtY1vRUm7jt1eLLSQn1m2qB4QAJdTqOwo=s64",
      "userId": "03070464648847264482"
     },
     "user_tz": 180
    },
    "id": "dzLKpmZICaWN"
   },
   "outputs": [],
   "source": [
    "# TensorFlow y tf.keras\n",
    "import tensorflow as tf\n",
    "from tensorflow import keras\n",
    "\n",
    "# Librerias de ayuda\n",
    "import numpy as np\n",
    "import matplotlib.pyplot as plt"
   ]
  },
  {
   "cell_type": "markdown",
   "metadata": {
    "id": "yR0EdgrLCaWR"
   },
   "source": [
    "## Importar el set de datos de moda de MNIST"
   ]
  },
  {
   "cell_type": "markdown",
   "metadata": {
    "id": "DLdCchMdCaWQ"
   },
   "source": [
    "Esta guia usa el set de datos de [Fashion MNIST](https://github.com/zalandoresearch/fashion-mnist)\n",
    "que contiene mas de 70,000 imagenes en 10 categorias. Las imagenes muestran articulos individuales de ropa (28 por 28 pixeles)\n",
    "\n",
    "\n",
    "Para importar y cargar el set de datos de MNIST directamente de TensorFlow:"
   ]
  },
  {
   "cell_type": "code",
   "execution_count": 2,
   "metadata": {
    "colab": {
     "base_uri": "https://localhost:8080/"
    },
    "executionInfo": {
     "elapsed": 2504,
     "status": "ok",
     "timestamp": 1604964204083,
     "user": {
      "displayName": "Giseladaiana",
      "photoUrl": "https://lh3.googleusercontent.com/a-/AOh14GgnvSUvepKtY1vRUm7jt1eLLSQn1m2qB4QAJdTqOwo=s64",
      "userId": "03070464648847264482"
     },
     "user_tz": 180
    },
    "id": "7MqDQO0KCaWS",
    "outputId": "c9f3dd4c-3732-42c9-f28f-a96b584b96e5"
   },
   "outputs": [],
   "source": [
    "fashion_mnist = keras.datasets.fashion_mnist\n",
    "\n",
    "(train_images, train_labels), (test_images, test_labels) = fashion_mnist.load_data()"
   ]
  },
  {
   "cell_type": "markdown",
   "metadata": {
    "id": "t9FDsUlxCaWW"
   },
   "source": [
    "[link text](https://)Al cargar el set de datos retorna cuatro arreglos en NumPy:\n",
    "\n",
    "* El arreglo `train_images` y `train_labels` son los arreglos que *training set*—el modelo de datos usa para aprender.\n",
    "* el modelo es probado contra los arreglos *test set*, el `test_images`, y `test_labels`.\n",
    "\n",
    "Las imagenes son 28x28 arreglos de NumPy, con valores de pixel que varian de 0 a 255. Los *labels* son un arreglo de enteros, que van del 0 al 9. Estos corresponden a la *class* de ropa que la imagen representa.\n",
    "\n",
    "<table>\n",
    "  <tr>\n",
    "    <th>Label</th>\n",
    "    <th>Class</th>\n",
    "  </tr>\n",
    "  <tr>\n",
    "    <td>0</td>\n",
    "    <td>remera</td>\n",
    "  </tr>\n",
    "  <tr>\n",
    "    <td>1</td>\n",
    "    <td>Pantalón</td>\n",
    "  </tr>\n",
    "    <tr>\n",
    "    <td>2</td>\n",
    "    <td>Pullover</td>\n",
    "  </tr>\n",
    "    <tr>\n",
    "    <td>3</td>\n",
    "    <td>Vestido</td>\n",
    "  </tr>\n",
    "    <tr>\n",
    "    <td>4</td>\n",
    "    <td>Campera</td>\n",
    "  </tr>\n",
    "    <tr>\n",
    "    <td>5</td>\n",
    "    <td>Sandalia</td>\n",
    "  </tr>\n",
    "    <tr>\n",
    "    <td>6</td>\n",
    "    <td>Camisa</td>\n",
    "  </tr>\n",
    "    <tr>\n",
    "    <td>7</td>\n",
    "    <td>Zapatilla</td>\n",
    "  </tr>\n",
    "    <tr>\n",
    "    <td>8</td>\n",
    "    <td>Bolso</td>\n",
    "  </tr>\n",
    "    <tr>\n",
    "    <td>9</td>\n",
    "    <td>Bota</td>\n",
    "  </tr>\n",
    "</table>\n",
    "\n",
    "Cada imagen es mapeada a una unica etiqueta. Ya que los *Class names* no estan incluidoen el dataset, almacenelo aca para usarlos luego cuando se visualicen las imagenes:"
   ]
  },
  {
   "cell_type": "code",
   "execution_count": 3,
   "metadata": {
    "executionInfo": {
     "elapsed": 583,
     "status": "ok",
     "timestamp": 1604964211855,
     "user": {
      "displayName": "Giseladaiana",
      "photoUrl": "https://lh3.googleusercontent.com/a-/AOh14GgnvSUvepKtY1vRUm7jt1eLLSQn1m2qB4QAJdTqOwo=s64",
      "userId": "03070464648847264482"
     },
     "user_tz": 180
    },
    "id": "IjnLH5S2CaWx"
   },
   "outputs": [],
   "source": [
    "class_names = ['Remera', 'Pantalón', 'Pullover', 'Vestido', 'Campera',\n",
    "               'Sandalia', 'Remera', 'Zapatilla', 'Bolso', 'Bota']"
   ]
  },
  {
   "cell_type": "markdown",
   "metadata": {
    "id": "Brm0b_KACaWX"
   },
   "source": [
    "## Exploremos el set de datos\n"
   ]
  },
  {
   "cell_type": "code",
   "execution_count": 4,
   "metadata": {
    "colab": {
     "base_uri": "https://localhost:8080/"
    },
    "executionInfo": {
     "elapsed": 1054,
     "status": "ok",
     "timestamp": 1604964227361,
     "user": {
      "displayName": "Giseladaiana",
      "photoUrl": "https://lh3.googleusercontent.com/a-/AOh14GgnvSUvepKtY1vRUm7jt1eLLSQn1m2qB4QAJdTqOwo=s64",
      "userId": "03070464648847264482"
     },
     "user_tz": 180
    },
    "id": "zW5k_xz1CaWX",
    "outputId": "81ec7b9e-4ddd-475c-eccc-951532917b6c"
   },
   "outputs": [
    {
     "data": {
      "text/plain": [
       "(60000, 28, 28)"
      ]
     },
     "execution_count": 4,
     "metadata": {},
     "output_type": "execute_result"
    }
   ],
   "source": [
    "train_images.shape"
   ]
  },
  {
   "cell_type": "code",
   "execution_count": 5,
   "metadata": {
    "colab": {
     "base_uri": "https://localhost:8080/"
    },
    "executionInfo": {
     "elapsed": 939,
     "status": "ok",
     "timestamp": 1604964229861,
     "user": {
      "displayName": "Giseladaiana",
      "photoUrl": "https://lh3.googleusercontent.com/a-/AOh14GgnvSUvepKtY1vRUm7jt1eLLSQn1m2qB4QAJdTqOwo=s64",
      "userId": "03070464648847264482"
     },
     "user_tz": 180
    },
    "id": "TRFYHB2mCaWb",
    "outputId": "e2e47f53-252e-4451-9c79-0af4fd5243e4"
   },
   "outputs": [
    {
     "data": {
      "text/plain": [
       "60000"
      ]
     },
     "execution_count": 5,
     "metadata": {},
     "output_type": "execute_result"
    }
   ],
   "source": [
    "len(train_labels)"
   ]
  },
  {
   "cell_type": "markdown",
   "metadata": {
    "id": "YSlYxFuRCaWk"
   },
   "source": [
    "Cada etiqueta es un integro entre 0 y 9:"
   ]
  },
  {
   "cell_type": "code",
   "execution_count": 6,
   "metadata": {
    "colab": {
     "base_uri": "https://localhost:8080/"
    },
    "executionInfo": {
     "elapsed": 965,
     "status": "ok",
     "timestamp": 1604964232651,
     "user": {
      "displayName": "Giseladaiana",
      "photoUrl": "https://lh3.googleusercontent.com/a-/AOh14GgnvSUvepKtY1vRUm7jt1eLLSQn1m2qB4QAJdTqOwo=s64",
      "userId": "03070464648847264482"
     },
     "user_tz": 180
    },
    "id": "XKnCTHz4CaWg",
    "outputId": "83b578ea-0b1e-4af6-d3d0-e09183ad7f90"
   },
   "outputs": [
    {
     "data": {
      "text/plain": [
       "array([9, 0, 0, ..., 3, 0, 5], dtype=uint8)"
      ]
     },
     "execution_count": 6,
     "metadata": {},
     "output_type": "execute_result"
    }
   ],
   "source": [
    "train_labels"
   ]
  },
  {
   "cell_type": "markdown",
   "metadata": {
    "id": "TMPI88iZpO2T"
   },
   "source": [
    "Hay 10,000 imagenes en el set de pruebas."
   ]
  },
  {
   "cell_type": "code",
   "execution_count": 7,
   "metadata": {
    "colab": {
     "base_uri": "https://localhost:8080/"
    },
    "executionInfo": {
     "elapsed": 1072,
     "status": "ok",
     "timestamp": 1604964235477,
     "user": {
      "displayName": "Giseladaiana",
      "photoUrl": "https://lh3.googleusercontent.com/a-/AOh14GgnvSUvepKtY1vRUm7jt1eLLSQn1m2qB4QAJdTqOwo=s64",
      "userId": "03070464648847264482"
     },
     "user_tz": 180
    },
    "id": "2KFnYlcwCaWl",
    "outputId": "3ba9cc27-4d46-491f-efe6-b78141456339"
   },
   "outputs": [
    {
     "data": {
      "text/plain": [
       "(10000, 28, 28)"
      ]
     },
     "execution_count": 7,
     "metadata": {},
     "output_type": "execute_result"
    }
   ],
   "source": [
    "test_images.shape"
   ]
  },
  {
   "cell_type": "markdown",
   "metadata": {
    "id": "rd0A0Iu0CaWq"
   },
   "source": [
    "Y el set de pruebas contiene 10,000 etiquetas de imagen:"
   ]
  },
  {
   "cell_type": "code",
   "execution_count": 8,
   "metadata": {
    "colab": {
     "base_uri": "https://localhost:8080/"
    },
    "executionInfo": {
     "elapsed": 915,
     "status": "ok",
     "timestamp": 1604964238062,
     "user": {
      "displayName": "Giseladaiana",
      "photoUrl": "https://lh3.googleusercontent.com/a-/AOh14GgnvSUvepKtY1vRUm7jt1eLLSQn1m2qB4QAJdTqOwo=s64",
      "userId": "03070464648847264482"
     },
     "user_tz": 180
    },
    "id": "iJmPr5-ACaWn",
    "outputId": "551923ac-3a39-40bb-9a34-d0924bd690b3"
   },
   "outputs": [
    {
     "data": {
      "text/plain": [
       "10000"
      ]
     },
     "execution_count": 8,
     "metadata": {},
     "output_type": "execute_result"
    }
   ],
   "source": [
    "len(test_labels)"
   ]
  },
  {
   "cell_type": "markdown",
   "metadata": {
    "id": "ES6uQoLKCaWr"
   },
   "source": [
    "## Pre-procesamiento de los datos\n",
    "\n",
    "El set de datos debe ser pre-procesada antes de entrenar la red. Veamos primera imagen en el set de entrenamiento. Podemos ver que  los valores de los pixeles van de 0 a 255:"
   ]
  },
  {
   "cell_type": "code",
   "execution_count": 9,
   "metadata": {
    "colab": {
     "base_uri": "https://localhost:8080/",
     "height": 265
    },
    "executionInfo": {
     "elapsed": 978,
     "status": "ok",
     "timestamp": 1604964240698,
     "user": {
      "displayName": "Giseladaiana",
      "photoUrl": "https://lh3.googleusercontent.com/a-/AOh14GgnvSUvepKtY1vRUm7jt1eLLSQn1m2qB4QAJdTqOwo=s64",
      "userId": "03070464648847264482"
     },
     "user_tz": 180
    },
    "id": "m4VEw8Ud9Quh",
    "outputId": "62901901-4672-43e8-88db-0fc27fbd8790"
   },
   "outputs": [
    {
     "data": {
      "image/png": "[encoded data removed]",
      "text/plain": [
       "<Figure size 432x288 with 2 Axes>"
      ]
     },
     "metadata": {
      "needs_background": "light"
     },
     "output_type": "display_data"
    }
   ],
   "source": [
    "plt.figure()\n",
    "plt.imshow(train_images[10])\n",
    "plt.colorbar()\n",
    "plt.grid(False)\n",
    "plt.show()"
   ]
  },
  {
   "cell_type": "markdown",
   "metadata": {
    "id": "Wz7l27Lz9S1P"
   },
   "source": [
    "Vamos a normalizar estos valores en un rango antes de correr el modelo de la red neuronal. Para hacero, dividimos los valores por 255. Es importante que el *training set* y el *testing set* se pre-procesen de la misma forma."
   ]
  },
  {
   "cell_type": "code",
   "execution_count": 10,
   "metadata": {
    "executionInfo": {
     "elapsed": 1064,
     "status": "ok",
     "timestamp": 1604964256932,
     "user": {
      "displayName": "Giseladaiana",
      "photoUrl": "https://lh3.googleusercontent.com/a-/AOh14GgnvSUvepKtY1vRUm7jt1eLLSQn1m2qB4QAJdTqOwo=s64",
      "userId": "03070464648847264482"
     },
     "user_tz": 180
    },
    "id": "bW5WzIPlCaWv"
   },
   "outputs": [],
   "source": [
    "train_images = train_images / 255.0\n",
    "\n",
    "test_images = test_images / 255.0"
   ]
  },
  {
   "cell_type": "markdown",
   "metadata": {
    "id": "Ee638AlnCaWz"
   },
   "source": [
    "Para verificar que el set de datos esta en el formato adecuado y que estan listos para construir y entrenar la red, vamos a desplegar las primeras 25 imagenes deel *training set* y mostraremos el nombre de cada clase debajo de cada imagen."
   ]
  },
  {
   "cell_type": "code",
   "execution_count": 11,
   "metadata": {
    "colab": {
     "base_uri": "https://localhost:8080/",
     "height": 589
    },
    "executionInfo": {
     "elapsed": 2134,
     "status": "ok",
     "timestamp": 1604964286624,
     "user": {
      "displayName": "Giseladaiana",
      "photoUrl": "https://lh3.googleusercontent.com/a-/AOh14GgnvSUvepKtY1vRUm7jt1eLLSQn1m2qB4QAJdTqOwo=s64",
      "userId": "03070464648847264482"
     },
     "user_tz": 180
    },
    "id": "oZTImqg_CaW1",
    "outputId": "6034e4c2-6394-4204-e72e-8f9d686492e6"
   },
   "outputs": [
    {
     "data": {
      "image/png": "[encoded data removed]",
      "text/plain": [
       "<Figure size 720x720 with 25 Axes>"
      ]
     },
     "metadata": {},
     "output_type": "display_data"
    }
   ],
   "source": [
    "plt.figure(figsize=(10,10))\n",
    "for i in range(25):\n",
    "    plt.subplot(5,5,i+1)\n",
    "    plt.xticks([])\n",
    "    plt.yticks([])\n",
    "    plt.grid(False)\n",
    "    plt.imshow(train_images[i], cmap=plt.cm.binary)\n",
    "    plt.xlabel(class_names[train_labels[i]])\n",
    "plt.show()"
   ]
  },
  {
   "cell_type": "markdown",
   "metadata": {
    "id": "59veuiEZCaW4"
   },
   "source": [
    "## Construir el Modelo\n",
    "\n",
    "Construir la red neuronal requiere configurar las capas del modelo y luego compilar el modelo."
   ]
  },
  {
   "cell_type": "markdown",
   "metadata": {
    "id": "Gxg1XGm0eOBy"
   },
   "source": [
    "### Configurar las Capas\n"
   ]
  },
  {
   "cell_type": "code",
   "execution_count": 37,
   "metadata": {
    "executionInfo": {
     "elapsed": 1122,
     "status": "ok",
     "timestamp": 1604964403499,
     "user": {
      "displayName": "Giseladaiana",
      "photoUrl": "https://lh3.googleusercontent.com/a-/AOh14GgnvSUvepKtY1vRUm7jt1eLLSQn1m2qB4QAJdTqOwo=s64",
      "userId": "03070464648847264482"
     },
     "user_tz": 180
    },
    "id": "9ODch-OFCaW4"
   },
   "outputs": [],
   "source": [
    "model = keras.Sequential([\n",
    "    keras.layers.Flatten(input_shape=(28, 28)),\n",
    "    keras.layers.Dense(128, activation='sigmoid'),\n",
    "    keras.layers.Dense(64, activation='sigmoid'),\n",
    "    keras.layers.Dense(32, activation='sigmoid'),\n",
    "    keras.layers.Dense(10, activation='sigmoid'),\n",
    "    keras.layers.Dense(10, activation='softmax')\n",
    "])\n",
    "#keras genera objeto de secuencia que le genera capas unas a otras. Armo la estructura de grafo, transpormo lo de 28 x 28 n\n",
    "#un vector. Pongo cada una de las filas despues de la otra. "
   ]
  },
  {
   "cell_type": "markdown",
   "metadata": {
    "id": "gut8A_7rCaW6"
   },
   "source": [
    "La primera capa de esta red, `tf.keras.layers.Flatten`, \n",
    "transforma el formato de las imagenes de un arreglo bi-dimensional (matriz de 28 por 28 pixeles) a un arreglo uni dimensional (vector de 28*28 pixeles = 784 pixeles). \n",
    "\n",
    "Despues de que los pixeles estan \"aplanados\",la primera capa `Dense` tiene 128 nodos (o neuronas). La segunda (y ultima) capa es una capa de 10 nodos *softmax* que devuelve un arreglo de 10 probabilidades que suman a 1. \n",
    "\n",
    "### Compile el modelo\n",
    "\n",
    "Antes de que el modelo este listo para entrenar , se necesitan algunas configuraciones mas. Estas son agregadas durante el paso de compilacion del modelo:\n",
    "\n",
    "* *Loss function* —Esto mide que tan exacto es el modelo durante el entrenamiento. Quiere minimizar esta funcion para dirigir el modelo en la direccion adecuada.\n",
    "* *Optimizer* — Esto es como el modelo va aprendiendo basado en el set de datos que ve y la funcion de perdida, o sea la configuración del proceso de BackPropagation para ir actualizando paso a paso los valores de los pesos y de los bias\n",
    "* *Metrics* — Se usan para monitorear los pasos de entrenamiento y de pruebas.\n",
    "El siguiente ejemplo usa exactitud (*accuracy*)\n",
    "\n",
    "Para más detalles ver: https://keras.io/api/losses/ , https://keras.io/optimizers , https:// keras.io/metrics."
   ]
  },
  {
   "cell_type": "code",
   "execution_count": 38,
   "metadata": {
    "id": "Lhan11blCaW7"
   },
   "outputs": [],
   "source": [
    "model.compile(optimizer='adam',\n",
    "              loss='sparse_categorical_crossentropy',\n",
    "              metrics=['accuracy'])"
   ]
  },
  {
   "cell_type": "markdown",
   "metadata": {
    "id": "qKF6uW-BCaW-"
   },
   "source": [
    "## Entrenamiento (fit) del Modelo\n",
    "\n",
    "Para más info: https://keras.io/api/models/model_training_apis/"
   ]
  },
  {
   "cell_type": "code",
   "execution_count": 39,
   "metadata": {
    "id": "xvwvpA64CaW_"
   },
   "outputs": [
    {
     "name": "stdout",
     "output_type": "stream",
     "text": [
      "Epoch 1/10\n",
      "1875/1875 [==============================] - 2s 803us/step - loss: 1.1226 - accuracy: 0.6931\n",
      "Epoch 2/10\n",
      "1875/1875 [==============================] - 1s 787us/step - loss: 0.5248 - accuracy: 0.8465\n",
      "Epoch 3/10\n",
      "1875/1875 [==============================] - 1s 793us/step - loss: 0.4099 - accuracy: 0.8654\n",
      "Epoch 4/10\n",
      "1875/1875 [==============================] - 2s 805us/step - loss: 0.3657 - accuracy: 0.8764\n",
      "Epoch 5/10\n",
      "1875/1875 [==============================] - 2s 806us/step - loss: 0.3401 - accuracy: 0.8837\n",
      "Epoch 6/10\n",
      "1875/1875 [==============================] - 2s 812us/step - loss: 0.3185 - accuracy: 0.8881\n",
      "Epoch 7/10\n",
      "1875/1875 [==============================] - 2s 804us/step - loss: 0.3021 - accuracy: 0.8946\n",
      "Epoch 8/10\n",
      "1875/1875 [==============================] - 2s 822us/step - loss: 0.2888 - accuracy: 0.8979\n",
      "Epoch 9/10\n",
      "1875/1875 [==============================] - 2s 822us/step - loss: 0.2777 - accuracy: 0.9010\n",
      "Epoch 10/10\n",
      "1875/1875 [==============================] - 2s 812us/step - loss: 0.2677 - accuracy: 0.9036\n"
     ]
    },
    {
     "data": {
      "text/plain": [
       "<tensorflow.python.keras.callbacks.History at 0x7f5eda73ba00>"
      ]
     },
     "execution_count": 39,
     "metadata": {},
     "output_type": "execute_result"
    }
   ],
   "source": [
    "model.fit(train_images, train_labels, epochs=10)"
   ]
  },
  {
   "cell_type": "markdown",
   "metadata": {
    "id": "oEw4bZgGCaXB"
   },
   "source": [
    "## Evaluar Exactitud\n",
    "\n",
    "Siguente, compare como el rendimiento del modelo sobre el set de testing:"
   ]
  },
  {
   "cell_type": "code",
   "execution_count": 40,
   "metadata": {
    "id": "VflXLEeECaXC"
   },
   "outputs": [
    {
     "name": "stdout",
     "output_type": "stream",
     "text": [
      "313/313 - 0s - loss: 0.3469 - accuracy: 0.8796\n",
      "\n",
      "Test accuracy: 0.8795999884605408\n"
     ]
    }
   ],
   "source": [
    "test_loss, test_acc = model.evaluate(test_images,  test_labels, verbose=2)\n",
    "\n",
    "print('\\nTest accuracy:', test_acc)"
   ]
  },
  {
   "cell_type": "markdown",
   "metadata": {
    "id": "xsoS7CPDCaXH"
   },
   "source": [
    "## Hacer predicciones\n",
    "\n",
    "Con el modelo entrenado  podemos hacer predicciones sobre imagenes."
   ]
  },
  {
   "cell_type": "code",
   "execution_count": 16,
   "metadata": {
    "id": "Gl91RPhdCaXI"
   },
   "outputs": [
    {
     "data": {
      "text/plain": [
       "array([[1.000e-04, 0.000e+00, 2.000e-04, 2.000e-04, 2.000e-04, 1.376e-01,\n",
       "        3.000e-04, 3.836e-01, 1.040e-02, 4.674e-01],\n",
       "       [8.000e-04, 1.000e-04, 9.091e-01, 1.100e-03, 1.820e-02, 0.000e+00,\n",
       "        7.030e-02, 0.000e+00, 4.000e-04, 0.000e+00],\n",
       "       [2.000e-04, 9.990e-01, 1.000e-04, 3.000e-04, 4.000e-04, 0.000e+00,\n",
       "        0.000e+00, 0.000e+00, 0.000e+00, 0.000e+00]], dtype=float32)"
      ]
     },
     "execution_count": 16,
     "metadata": {},
     "output_type": "execute_result"
    }
   ],
   "source": [
    "X_new = test_images[:3]\n",
    "y_proba = model.predict(X_new)\n",
    "y_proba.round(4)"
   ]
  },
  {
   "cell_type": "code",
   "execution_count": 17,
   "metadata": {
    "id": "TP4s5Q7cYEvu"
   },
   "outputs": [
    {
     "name": "stdout",
     "output_type": "stream",
     "text": [
      "WARNING:tensorflow:From <ipython-input-17-81ace37e545f>:1: Sequential.predict_classes (from tensorflow.python.keras.engine.sequential) is deprecated and will be removed after 2021-01-01.\n",
      "Instructions for updating:\n",
      "Please use instead:* `np.argmax(model.predict(x), axis=-1)`,   if your model does multi-class classification   (e.g. if it uses a `softmax` last-layer activation).* `(model.predict(x) > 0.5).astype(\"int32\")`,   if your model does binary classification   (e.g. if it uses a `sigmoid` last-layer activation).\n"
     ]
    },
    {
     "data": {
      "text/plain": [
       "array([9, 2, 1])"
      ]
     },
     "execution_count": 17,
     "metadata": {},
     "output_type": "execute_result"
    }
   ],
   "source": [
    "y_pred = model.predict_classes(X_new)\n",
    "y_pred"
   ]
  },
  {
   "cell_type": "code",
   "execution_count": 18,
   "metadata": {
    "id": "qsqenuPnCaXO"
   },
   "outputs": [
    {
     "data": {
      "text/plain": [
       "array(['Bota', 'Pullover', 'Pantalón'], dtype='<U9')"
      ]
     },
     "execution_count": 18,
     "metadata": {},
     "output_type": "execute_result"
    }
   ],
   "source": [
    "np.array(class_names)[y_pred]"
   ]
  },
  {
   "cell_type": "markdown",
   "metadata": {
    "id": "_Fe6QycXYtD-"
   },
   "source": [
    "Vamos a armar un vector con todas las predicciones en el test set"
   ]
  },
  {
   "cell_type": "code",
   "execution_count": 19,
   "metadata": {
    "id": "1RorUZ2DYxMn"
   },
   "outputs": [],
   "source": [
    "predictions = model.predict(test_images)"
   ]
  },
  {
   "cell_type": "markdown",
   "metadata": {
    "id": "ygh2yYC972ne"
   },
   "source": [
    "**Graficar**  las predicciones de las 10 clases."
   ]
  },
  {
   "cell_type": "code",
   "execution_count": 20,
   "metadata": {
    "id": "DvYmmrpIy6Y1"
   },
   "outputs": [],
   "source": [
    "def plot_image(i, predictions_array, true_label, img):\n",
    "  predictions_array, true_label, img = predictions_array, true_label[i], img[i]\n",
    "  plt.grid(False)\n",
    "  plt.xticks([])\n",
    "  plt.yticks([])\n",
    "\n",
    "  plt.imshow(img, cmap=plt.cm.binary)\n",
    "\n",
    "  predicted_label = np.argmax(predictions_array)\n",
    "  if predicted_label == true_label:\n",
    "    color = 'blue'\n",
    "  else:\n",
    "    color = 'red'\n",
    "\n",
    "  plt.xlabel(\"{} {:2.0f}% ({})\".format(class_names[predicted_label],\n",
    "                                100*np.max(predictions_array),\n",
    "                                class_names[true_label]),\n",
    "                                color=color)\n",
    "\n",
    "def plot_value_array(i, predictions_array, true_label):\n",
    "  predictions_array, true_label = predictions_array, true_label[i]\n",
    "  plt.grid(False)\n",
    "  plt.xticks(range(10))\n",
    "  plt.yticks([])\n",
    "  thisplot = plt.bar(range(10), predictions_array, color=\"#777777\")\n",
    "  plt.ylim([0, 1])\n",
    "  predicted_label = np.argmax(predictions_array)\n",
    "\n",
    "  thisplot[predicted_label].set_color('red')\n",
    "  thisplot[true_label].set_color('blue')"
   ]
  },
  {
   "cell_type": "markdown",
   "metadata": {
    "id": "d4Ov9OFDMmOD"
   },
   "source": [
    "Miremos la imagen [1], sus predicciones y el arreglo de predicciones. Las etiquetas de prediccion correctas estan en azul y las incorrectas estan en rojo. El numero entrega la probabilidad (sen porcentaje) para para la etiqueta predicha."
   ]
  },
  {
   "cell_type": "code",
   "execution_count": 21,
   "metadata": {
    "id": "HV5jw-5HwSmO"
   },
   "outputs": [
    {
     "data": {
      "image/png": "[encoded data removed]",
      "text/plain": [
       "<Figure size 432x216 with 2 Axes>"
      ]
     },
     "metadata": {
      "needs_background": "light"
     },
     "output_type": "display_data"
    }
   ],
   "source": [
    "i = 1\n",
    "plt.figure(figsize=(6,3))\n",
    "plt.subplot(1,2,1)\n",
    "plot_image(i, predictions[i], test_labels, test_images)\n",
    "plt.subplot(1,2,2)\n",
    "plot_value_array(i, predictions[i],  test_labels)\n",
    "plt.show()"
   ]
  },
  {
   "cell_type": "code",
   "execution_count": 22,
   "metadata": {
    "id": "Ko-uzOufSCSe"
   },
   "outputs": [
    {
     "data": {
      "image/png": "[encoded data removed]",
      "text/plain": [
       "<Figure size 432x216 with 2 Axes>"
      ]
     },
     "metadata": {
      "needs_background": "light"
     },
     "output_type": "display_data"
    }
   ],
   "source": [
    "i = 12\n",
    "plt.figure(figsize=(6,3))\n",
    "plt.subplot(1,2,1)\n",
    "plot_image(i, predictions[i], test_labels, test_images)\n",
    "plt.subplot(1,2,2)\n",
    "plot_value_array(i, predictions[i],  test_labels)\n",
    "plt.show()"
   ]
  },
  {
   "cell_type": "markdown",
   "metadata": {
    "id": "kgdvGD52CaXR"
   },
   "source": [
    "Vamos a graficar multiples imagenes con sus predicciones. Notese que el modelo puede estar equivocado aun cuando la probabilidad sea alta."
   ]
  },
  {
   "cell_type": "code",
   "execution_count": 23,
   "metadata": {
    "id": "hQlnbqaw2Qu_",
    "scrolled": true
   },
   "outputs": [
    {
     "data": {
      "image/png": "[encoded data removed]",
      "text/plain": [
       "<Figure size 864x720 with 30 Axes>"
      ]
     },
     "metadata": {
      "needs_background": "light"
     },
     "output_type": "display_data"
    }
   ],
   "source": [
    "# Plot the first X test images, their predicted labels, and the true labels.\n",
    "# Color correct predictions in blue and incorrect predictions in red.\n",
    "num_rows = 5\n",
    "num_cols = 3\n",
    "num_images = num_rows*num_cols\n",
    "plt.figure(figsize=(2*2*num_cols, 2*num_rows))\n",
    "for i in range(num_images):\n",
    "  plt.subplot(num_rows, 2*num_cols, 2*i+1)\n",
    "  plot_image(i, predictions[i], test_labels, test_images)\n",
    "  plt.subplot(num_rows, 2*num_cols, 2*i+2)\n",
    "  plot_value_array(i, predictions[i], test_labels)\n",
    "plt.tight_layout()\n",
    "plt.show()"
   ]
  },
  {
   "cell_type": "code",
   "execution_count": 24,
   "metadata": {
    "id": "MeGiaPQcUNRk"
   },
   "outputs": [
    {
     "data": {
      "text/plain": [
       "array([[775,   4,  21,  78,   5,   6,  94,   0,  17,   0],\n",
       "       [  3, 931,  14,  41,   8,   0,   1,   0,   2,   0],\n",
       "       [ 17,   1, 740,  10, 148,   1,  69,   0,  14,   0],\n",
       "       [ 25,  13,  12, 868,  34,   1,  43,   0,   4,   0],\n",
       "       [  0,   2, 116,  35, 764,   0,  78,   0,   5,   0],\n",
       "       [  0,   0,   0,   2,   0, 878,   0,  72,   7,  41],\n",
       "       [140,   2, 151,  63, 140,   2, 469,   0,  33,   0],\n",
       "       [  0,   0,   0,   0,   0,  42,   0, 892,   0,  66],\n",
       "       [  0,   1,  13,  12,   2,   6,  22,   6, 937,   1],\n",
       "       [  0,   0,   0,   0,   0,  20,   0,  50,   1, 929]])"
      ]
     },
     "execution_count": 24,
     "metadata": {},
     "output_type": "execute_result"
    }
   ],
   "source": [
    "from sklearn.metrics import confusion_matrix\n",
    "matrix = confusion_matrix(test_labels, model.predict_classes(test_images))\n",
    "matrix"
   ]
  },
  {
   "cell_type": "code",
   "execution_count": 25,
   "metadata": {
    "id": "MsBGMU4zUNRm"
   },
   "outputs": [
    {
     "data": {
      "text/plain": [
       "0.8183"
      ]
     },
     "execution_count": 25,
     "metadata": {},
     "output_type": "execute_result"
    }
   ],
   "source": [
    "acc = np.sum(np.diagonal(matrix))/np.sum(matrix)\n",
    "acc"
   ]
  }
 ],
 "metadata": {
  "colab": {
   "collapsed_sections": [],
   "name": "Perceptrón_Multicapa_en_Keras_TF.ipynb",
   "provenance": [],
   "toc_visible": true
  },
  "kernelspec": {
   "display_name": "Python 3",
   "language": "python",
   "name": "python3"
  },
  "language_info": {
   "codemirror_mode": {
    "name": "ipython",
    "version": 3
   },
   "file_extension": ".py",
   "mimetype": "text/x-python",
   "name": "python",
   "nbconvert_exporter": "python",
   "pygments_lexer": "ipython3",
   "version": "3.8.3"
  }
 },
 "nbformat": 4,
 "nbformat_minor": 1
}
