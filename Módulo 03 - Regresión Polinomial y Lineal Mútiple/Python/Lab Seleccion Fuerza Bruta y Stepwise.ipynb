{
 "cells": [
  {
   "cell_type": "code",
   "execution_count": 1,
   "metadata": {
    "colab": {
     "base_uri": "https://localhost:8080/",
     "height": 50
    },
    "colab_type": "code",
    "executionInfo": {
     "elapsed": 2341,
     "status": "ok",
     "timestamp": 1600714654724,
     "user": {
      "displayName": "Federico Cardoso",
      "photoUrl": "",
      "userId": "07880001849925101622"
     },
     "user_tz": 180
    },
    "id": "C6IhDdsSg8E9",
    "outputId": "3517dd10-ff1d-40a6-9fc0-a832ebca59ec"
   },
   "outputs": [],
   "source": [
    "from sklearn.datasets import load_boston\n",
    "import numpy as np\n",
    "import pandas as pd\n",
    "import statsmodels.api as sm\n",
    "import statsmodels.formula.api as smf"
   ]
  },
  {
   "cell_type": "code",
   "execution_count": 3,
   "metadata": {
    "colab": {
     "base_uri": "https://localhost:8080/",
     "height": 201
    },
    "colab_type": "code",
    "executionInfo": {
     "elapsed": 2329,
     "status": "ok",
     "timestamp": 1600714654727,
     "user": {
      "displayName": "Federico Cardoso",
      "photoUrl": "",
      "userId": "07880001849925101622"
     },
     "user_tz": 180
    },
    "id": "dpobqZyAh-K1",
    "outputId": "5d273837-14b7-4361-9db5-f0fc65b5ca66"
   },
   "outputs": [
    {
     "data": {
      "text/html": [
       "<div>\n",
       "<style scoped>\n",
       "    .dataframe tbody tr th:only-of-type {\n",
       "        vertical-align: middle;\n",
       "    }\n",
       "\n",
       "    .dataframe tbody tr th {\n",
       "        vertical-align: top;\n",
       "    }\n",
       "\n",
       "    .dataframe thead th {\n",
       "        text-align: right;\n",
       "    }\n",
       "</style>\n",
       "<table border=\"1\" class=\"dataframe\">\n",
       "  <thead>\n",
       "    <tr style=\"text-align: right;\">\n",
       "      <th></th>\n",
       "      <th>CRIM</th>\n",
       "      <th>ZN</th>\n",
       "      <th>INDUS</th>\n",
       "      <th>CHAS</th>\n",
       "      <th>NOX</th>\n",
       "      <th>RM</th>\n",
       "      <th>AGE</th>\n",
       "      <th>DIS</th>\n",
       "      <th>RAD</th>\n",
       "      <th>TAX</th>\n",
       "      <th>PTRATIO</th>\n",
       "      <th>B</th>\n",
       "      <th>LSTAT</th>\n",
       "      <th>MEDV</th>\n",
       "    </tr>\n",
       "  </thead>\n",
       "  <tbody>\n",
       "    <tr>\n",
       "      <th>0</th>\n",
       "      <td>0.00632</td>\n",
       "      <td>18.0</td>\n",
       "      <td>2.31</td>\n",
       "      <td>0.0</td>\n",
       "      <td>0.538</td>\n",
       "      <td>6.575</td>\n",
       "      <td>65.2</td>\n",
       "      <td>4.0900</td>\n",
       "      <td>1.0</td>\n",
       "      <td>296.0</td>\n",
       "      <td>15.3</td>\n",
       "      <td>396.90</td>\n",
       "      <td>4.98</td>\n",
       "      <td>24.0</td>\n",
       "    </tr>\n",
       "    <tr>\n",
       "      <th>1</th>\n",
       "      <td>0.02731</td>\n",
       "      <td>0.0</td>\n",
       "      <td>7.07</td>\n",
       "      <td>0.0</td>\n",
       "      <td>0.469</td>\n",
       "      <td>6.421</td>\n",
       "      <td>78.9</td>\n",
       "      <td>4.9671</td>\n",
       "      <td>2.0</td>\n",
       "      <td>242.0</td>\n",
       "      <td>17.8</td>\n",
       "      <td>396.90</td>\n",
       "      <td>9.14</td>\n",
       "      <td>21.6</td>\n",
       "    </tr>\n",
       "    <tr>\n",
       "      <th>2</th>\n",
       "      <td>0.02729</td>\n",
       "      <td>0.0</td>\n",
       "      <td>7.07</td>\n",
       "      <td>0.0</td>\n",
       "      <td>0.469</td>\n",
       "      <td>7.185</td>\n",
       "      <td>61.1</td>\n",
       "      <td>4.9671</td>\n",
       "      <td>2.0</td>\n",
       "      <td>242.0</td>\n",
       "      <td>17.8</td>\n",
       "      <td>392.83</td>\n",
       "      <td>4.03</td>\n",
       "      <td>34.7</td>\n",
       "    </tr>\n",
       "    <tr>\n",
       "      <th>3</th>\n",
       "      <td>0.03237</td>\n",
       "      <td>0.0</td>\n",
       "      <td>2.18</td>\n",
       "      <td>0.0</td>\n",
       "      <td>0.458</td>\n",
       "      <td>6.998</td>\n",
       "      <td>45.8</td>\n",
       "      <td>6.0622</td>\n",
       "      <td>3.0</td>\n",
       "      <td>222.0</td>\n",
       "      <td>18.7</td>\n",
       "      <td>394.63</td>\n",
       "      <td>2.94</td>\n",
       "      <td>33.4</td>\n",
       "    </tr>\n",
       "    <tr>\n",
       "      <th>4</th>\n",
       "      <td>0.06905</td>\n",
       "      <td>0.0</td>\n",
       "      <td>2.18</td>\n",
       "      <td>0.0</td>\n",
       "      <td>0.458</td>\n",
       "      <td>7.147</td>\n",
       "      <td>54.2</td>\n",
       "      <td>6.0622</td>\n",
       "      <td>3.0</td>\n",
       "      <td>222.0</td>\n",
       "      <td>18.7</td>\n",
       "      <td>396.90</td>\n",
       "      <td>5.33</td>\n",
       "      <td>36.2</td>\n",
       "    </tr>\n",
       "  </tbody>\n",
       "</table>\n",
       "</div>"
      ],
      "text/plain": [
       "      CRIM    ZN  INDUS  CHAS    NOX     RM   AGE     DIS  RAD    TAX  \\\n",
       "0  0.00632  18.0   2.31   0.0  0.538  6.575  65.2  4.0900  1.0  296.0   \n",
       "1  0.02731   0.0   7.07   0.0  0.469  6.421  78.9  4.9671  2.0  242.0   \n",
       "2  0.02729   0.0   7.07   0.0  0.469  7.185  61.1  4.9671  2.0  242.0   \n",
       "3  0.03237   0.0   2.18   0.0  0.458  6.998  45.8  6.0622  3.0  222.0   \n",
       "4  0.06905   0.0   2.18   0.0  0.458  7.147  54.2  6.0622  3.0  222.0   \n",
       "\n",
       "   PTRATIO       B  LSTAT  MEDV  \n",
       "0     15.3  396.90   4.98  24.0  \n",
       "1     17.8  396.90   9.14  21.6  \n",
       "2     17.8  392.83   4.03  34.7  \n",
       "3     18.7  394.63   2.94  33.4  \n",
       "4     18.7  396.90   5.33  36.2  "
      ]
     },
     "execution_count": 3,
     "metadata": {},
     "output_type": "execute_result"
    }
   ],
   "source": [
    "boston = load_boston()\n",
    "boston.keys()\n",
    "\n",
    "a = boston['data']\n",
    "b = boston['target']\n",
    "\n",
    "c = np.column_stack((a,b))\n",
    "\n",
    "columnas = boston['feature_names']\n",
    "columnas = np.append(columnas, 'MEDV')\n",
    "\n",
    "boston_df = pd.DataFrame(c, columns = columnas)\n",
    "boston_df.head()"
   ]
  },
  {
   "cell_type": "markdown",
   "metadata": {
    "colab_type": "text",
    "id": "OeAMmNG3qAbq"
   },
   "source": [
    "# De a dos fuerza bruta"
   ]
  },
  {
   "cell_type": "code",
   "execution_count": 4,
   "metadata": {
    "colab": {},
    "colab_type": "code",
    "executionInfo": {
     "elapsed": 2328,
     "status": "ok",
     "timestamp": 1600714654729,
     "user": {
      "displayName": "Federico Cardoso",
      "photoUrl": "",
      "userId": "07880001849925101622"
     },
     "user_tz": 180
    },
    "id": "Z4mL68aWiGf1"
   },
   "outputs": [],
   "source": [
    "campos = boston['feature_names']\n",
    "campo_max = campos[0]\n",
    "max_r2 = 0\n",
    "primera_pasada = True"
   ]
  },
  {
   "cell_type": "code",
   "execution_count": 5,
   "metadata": {
    "colab": {
     "base_uri": "https://localhost:8080/",
     "height": 1000
    },
    "colab_type": "code",
    "executionInfo": {
     "elapsed": 4353,
     "status": "ok",
     "timestamp": 1600714656757,
     "user": {
      "displayName": "Federico Cardoso",
      "photoUrl": "",
      "userId": "07880001849925101622"
     },
     "user_tz": 180
    },
    "id": "_85hfqPJqUX1",
    "outputId": "a676f9ba-55ce-460f-82d5-7825b20fbe04"
   },
   "outputs": [
    {
     "name": "stdout",
     "output_type": "stream",
     "text": [
      "MEDV ~CRIM + ZN\n",
      "MEDV ~CRIM + INDUS\n",
      "MEDV ~CRIM + CHAS\n",
      "MEDV ~CRIM + NOX\n",
      "MEDV ~CRIM + RM\n",
      "MEDV ~CRIM + AGE\n",
      "MEDV ~CRIM + DIS\n",
      "MEDV ~CRIM + RAD\n",
      "MEDV ~CRIM + TAX\n",
      "MEDV ~CRIM + PTRATIO\n",
      "MEDV ~CRIM + B\n",
      "MEDV ~CRIM + LSTAT\n",
      "MEDV ~ZN + CRIM\n",
      "MEDV ~ZN + INDUS\n",
      "MEDV ~ZN + CHAS\n",
      "MEDV ~ZN + NOX\n",
      "MEDV ~ZN + RM\n",
      "MEDV ~ZN + AGE\n",
      "MEDV ~ZN + DIS\n",
      "MEDV ~ZN + RAD\n",
      "MEDV ~ZN + TAX\n",
      "MEDV ~ZN + PTRATIO\n",
      "MEDV ~ZN + B\n",
      "MEDV ~ZN + LSTAT\n",
      "MEDV ~INDUS + CRIM\n",
      "MEDV ~INDUS + ZN\n",
      "MEDV ~INDUS + CHAS\n",
      "MEDV ~INDUS + NOX\n",
      "MEDV ~INDUS + RM\n",
      "MEDV ~INDUS + AGE\n",
      "MEDV ~INDUS + DIS\n",
      "MEDV ~INDUS + RAD\n",
      "MEDV ~INDUS + TAX\n",
      "MEDV ~INDUS + PTRATIO\n",
      "MEDV ~INDUS + B\n",
      "MEDV ~INDUS + LSTAT\n",
      "MEDV ~CHAS + CRIM\n",
      "MEDV ~CHAS + ZN\n",
      "MEDV ~CHAS + INDUS\n",
      "MEDV ~CHAS + NOX\n",
      "MEDV ~CHAS + RM\n",
      "MEDV ~CHAS + AGE\n",
      "MEDV ~CHAS + DIS\n",
      "MEDV ~CHAS + RAD\n",
      "MEDV ~CHAS + TAX\n",
      "MEDV ~CHAS + PTRATIO\n",
      "MEDV ~CHAS + B\n",
      "MEDV ~CHAS + LSTAT\n",
      "MEDV ~NOX + CRIM\n",
      "MEDV ~NOX + ZN\n",
      "MEDV ~NOX + INDUS\n",
      "MEDV ~NOX + CHAS\n",
      "MEDV ~NOX + RM\n",
      "MEDV ~NOX + AGE\n",
      "MEDV ~NOX + DIS\n",
      "MEDV ~NOX + RAD\n",
      "MEDV ~NOX + TAX\n",
      "MEDV ~NOX + PTRATIO\n",
      "MEDV ~NOX + B\n",
      "MEDV ~NOX + LSTAT\n",
      "MEDV ~RM + CRIM\n",
      "MEDV ~RM + ZN\n",
      "MEDV ~RM + INDUS\n",
      "MEDV ~RM + CHAS\n",
      "MEDV ~RM + NOX\n",
      "MEDV ~RM + AGE\n",
      "MEDV ~RM + DIS\n",
      "MEDV ~RM + RAD\n",
      "MEDV ~RM + TAX\n",
      "MEDV ~RM + PTRATIO\n",
      "MEDV ~RM + B\n",
      "MEDV ~RM + LSTAT\n",
      "MEDV ~AGE + CRIM\n",
      "MEDV ~AGE + ZN\n",
      "MEDV ~AGE + INDUS\n",
      "MEDV ~AGE + CHAS\n",
      "MEDV ~AGE + NOX\n",
      "MEDV ~AGE + RM\n",
      "MEDV ~AGE + DIS\n",
      "MEDV ~AGE + RAD\n",
      "MEDV ~AGE + TAX\n",
      "MEDV ~AGE + PTRATIO\n",
      "MEDV ~AGE + B\n",
      "MEDV ~AGE + LSTAT\n",
      "MEDV ~DIS + CRIM\n",
      "MEDV ~DIS + ZN\n",
      "MEDV ~DIS + INDUS\n",
      "MEDV ~DIS + CHAS\n",
      "MEDV ~DIS + NOX\n",
      "MEDV ~DIS + RM\n",
      "MEDV ~DIS + AGE\n",
      "MEDV ~DIS + RAD\n",
      "MEDV ~DIS + TAX\n",
      "MEDV ~DIS + PTRATIO\n",
      "MEDV ~DIS + B\n",
      "MEDV ~DIS + LSTAT\n",
      "MEDV ~RAD + CRIM\n",
      "MEDV ~RAD + ZN\n",
      "MEDV ~RAD + INDUS\n",
      "MEDV ~RAD + CHAS\n",
      "MEDV ~RAD + NOX\n",
      "MEDV ~RAD + RM\n",
      "MEDV ~RAD + AGE\n",
      "MEDV ~RAD + DIS\n",
      "MEDV ~RAD + TAX\n",
      "MEDV ~RAD + PTRATIO\n",
      "MEDV ~RAD + B\n",
      "MEDV ~RAD + LSTAT\n",
      "MEDV ~TAX + CRIM\n",
      "MEDV ~TAX + ZN\n",
      "MEDV ~TAX + INDUS\n",
      "MEDV ~TAX + CHAS\n",
      "MEDV ~TAX + NOX\n",
      "MEDV ~TAX + RM\n",
      "MEDV ~TAX + AGE\n",
      "MEDV ~TAX + DIS\n",
      "MEDV ~TAX + RAD\n",
      "MEDV ~TAX + PTRATIO\n",
      "MEDV ~TAX + B\n",
      "MEDV ~TAX + LSTAT\n",
      "MEDV ~PTRATIO + CRIM\n",
      "MEDV ~PTRATIO + ZN\n",
      "MEDV ~PTRATIO + INDUS\n",
      "MEDV ~PTRATIO + CHAS\n",
      "MEDV ~PTRATIO + NOX\n",
      "MEDV ~PTRATIO + RM\n",
      "MEDV ~PTRATIO + AGE\n",
      "MEDV ~PTRATIO + DIS\n",
      "MEDV ~PTRATIO + RAD\n",
      "MEDV ~PTRATIO + TAX\n",
      "MEDV ~PTRATIO + B\n",
      "MEDV ~PTRATIO + LSTAT\n",
      "MEDV ~B + CRIM\n",
      "MEDV ~B + ZN\n",
      "MEDV ~B + INDUS\n",
      "MEDV ~B + CHAS\n",
      "MEDV ~B + NOX\n",
      "MEDV ~B + RM\n",
      "MEDV ~B + AGE\n",
      "MEDV ~B + DIS\n",
      "MEDV ~B + RAD\n",
      "MEDV ~B + TAX\n",
      "MEDV ~B + PTRATIO\n",
      "MEDV ~B + LSTAT\n",
      "MEDV ~LSTAT + CRIM\n",
      "MEDV ~LSTAT + ZN\n",
      "MEDV ~LSTAT + INDUS\n",
      "MEDV ~LSTAT + CHAS\n",
      "MEDV ~LSTAT + NOX\n",
      "MEDV ~LSTAT + RM\n",
      "MEDV ~LSTAT + AGE\n",
      "MEDV ~LSTAT + DIS\n",
      "MEDV ~LSTAT + RAD\n",
      "MEDV ~LSTAT + TAX\n",
      "MEDV ~LSTAT + PTRATIO\n",
      "MEDV ~LSTAT + B\n"
     ]
    }
   ],
   "source": [
    "for i in range(len(campos)):\n",
    "  formula_ant = 'MEDV ~'\n",
    "  for j in range(len(campos)):\n",
    "    if (j != i):\n",
    "      formula = formula_ant + campos[i] +' + ' + campos[j]\n",
    "      print(formula)\n",
    "      model = smf.ols(formula, data = boston_df).fit()\n",
    "      r2 = model.rsquared_adj\n",
    "\n",
    "      if (r2 > max_r2):\n",
    "        max_r2 = r2\n",
    "        formula_max = formula\n",
    "        campo_max = c"
   ]
  },
  {
   "cell_type": "code",
   "execution_count": 6,
   "metadata": {
    "colab": {
     "base_uri": "https://localhost:8080/",
     "height": 34
    },
    "colab_type": "code",
    "executionInfo": {
     "elapsed": 4347,
     "status": "ok",
     "timestamp": 1600714656758,
     "user": {
      "displayName": "Federico Cardoso",
      "photoUrl": "",
      "userId": "07880001849925101622"
     },
     "user_tz": 180
    },
    "id": "gd6lWc_ArZxI",
    "outputId": "f786f440-4f15-42cb-d4e3-5c40a32ca143"
   },
   "outputs": [
    {
     "data": {
      "text/plain": [
       "0.6371244754701231"
      ]
     },
     "execution_count": 6,
     "metadata": {},
     "output_type": "execute_result"
    }
   ],
   "source": [
    "max_r2"
   ]
  },
  {
   "cell_type": "code",
   "execution_count": 7,
   "metadata": {
    "colab": {
     "base_uri": "https://localhost:8080/",
     "height": 35
    },
    "colab_type": "code",
    "executionInfo": {
     "elapsed": 4341,
     "status": "ok",
     "timestamp": 1600714656759,
     "user": {
      "displayName": "Federico Cardoso",
      "photoUrl": "",
      "userId": "07880001849925101622"
     },
     "user_tz": 180
    },
    "id": "893IvP81sPge",
    "outputId": "7ae01438-a3ee-49c8-8c83-3c6fd825f549"
   },
   "outputs": [
    {
     "data": {
      "text/plain": [
       "'MEDV ~RM + LSTAT'"
      ]
     },
     "execution_count": 7,
     "metadata": {},
     "output_type": "execute_result"
    }
   ],
   "source": [
    "formula_max"
   ]
  },
  {
   "cell_type": "markdown",
   "metadata": {
    "colab_type": "text",
    "id": "MwPqA58WsX6z"
   },
   "source": [
    "# Original Forword STEPWISE"
   ]
  },
  {
   "cell_type": "code",
   "execution_count": 6,
   "metadata": {
    "colab": {},
    "colab_type": "code",
    "executionInfo": {
     "elapsed": 911,
     "status": "ok",
     "timestamp": 1600714844162,
     "user": {
      "displayName": "Federico Cardoso",
      "photoUrl": "",
      "userId": "07880001849925101622"
     },
     "user_tz": 180
    },
    "id": "orwy5Qa-sSR3"
   },
   "outputs": [],
   "source": [
    "campos = boston['feature_names'].tolist()\n",
    "campo_max = campos[0]\n",
    "max_r2 = 0\n",
    "primera_pasada = True"
   ]
  },
  {
   "cell_type": "code",
   "execution_count": 7,
   "metadata": {
    "colab": {},
    "colab_type": "code",
    "executionInfo": {
     "elapsed": 917,
     "status": "ok",
     "timestamp": 1600715179081,
     "user": {
      "displayName": "Federico Cardoso",
      "photoUrl": "",
      "userId": "07880001849925101622"
     },
     "user_tz": 180
    },
    "id": "b7S65DA9CiP3"
   },
   "outputs": [],
   "source": [
    "formula_ant = 'MEDV ~'"
   ]
  },
  {
   "cell_type": "code",
   "execution_count": 8,
   "metadata": {
    "colab": {},
    "colab_type": "code",
    "executionInfo": {
     "elapsed": 826,
     "status": "ok",
     "timestamp": 1600715184809,
     "user": {
      "displayName": "Federico Cardoso",
      "photoUrl": "",
      "userId": "07880001849925101622"
     },
     "user_tz": 180
    },
    "id": "LUTkCh_5sy3Y"
   },
   "outputs": [],
   "source": [
    "# vamos a iniciar un diccionario vacio para poder agregar los datos de los diferentes modelos.\n",
    "\n",
    "modelos = {'Modelo': [], 'R2_aj': []}"
   ]
  },
  {
   "cell_type": "code",
   "execution_count": 9,
   "metadata": {},
   "outputs": [
    {
     "name": "stdout",
     "output_type": "stream",
     "text": [
      "MEDV ~CRIM\n",
      "MEDV ~ZN\n",
      "MEDV ~INDUS\n",
      "MEDV ~CHAS\n",
      "MEDV ~NOX\n",
      "MEDV ~RM\n",
      "MEDV ~AGE\n",
      "MEDV ~DIS\n",
      "MEDV ~RAD\n",
      "MEDV ~TAX\n",
      "MEDV ~PTRATIO\n",
      "MEDV ~B\n",
      "MEDV ~LSTAT\n",
      "MEDV ~LSTAT + CRIM\n",
      "MEDV ~LSTAT + ZN\n",
      "MEDV ~LSTAT + INDUS\n",
      "MEDV ~LSTAT + CHAS\n",
      "MEDV ~LSTAT + NOX\n",
      "MEDV ~LSTAT + RM\n",
      "MEDV ~LSTAT + AGE\n",
      "MEDV ~LSTAT + DIS\n",
      "MEDV ~LSTAT + RAD\n",
      "MEDV ~LSTAT + TAX\n",
      "MEDV ~LSTAT + PTRATIO\n",
      "MEDV ~LSTAT + B\n",
      "MEDV ~LSTAT + RM + CRIM\n",
      "MEDV ~LSTAT + RM + ZN\n",
      "MEDV ~LSTAT + RM + INDUS\n",
      "MEDV ~LSTAT + RM + CHAS\n",
      "MEDV ~LSTAT + RM + NOX\n",
      "MEDV ~LSTAT + RM + AGE\n",
      "MEDV ~LSTAT + RM + DIS\n",
      "MEDV ~LSTAT + RM + RAD\n",
      "MEDV ~LSTAT + RM + TAX\n",
      "MEDV ~LSTAT + RM + PTRATIO\n",
      "MEDV ~LSTAT + RM + B\n",
      "MEDV ~LSTAT + RM + PTRATIO + CRIM\n",
      "MEDV ~LSTAT + RM + PTRATIO + ZN\n",
      "MEDV ~LSTAT + RM + PTRATIO + INDUS\n",
      "MEDV ~LSTAT + RM + PTRATIO + CHAS\n",
      "MEDV ~LSTAT + RM + PTRATIO + NOX\n",
      "MEDV ~LSTAT + RM + PTRATIO + AGE\n",
      "MEDV ~LSTAT + RM + PTRATIO + DIS\n",
      "MEDV ~LSTAT + RM + PTRATIO + RAD\n",
      "MEDV ~LSTAT + RM + PTRATIO + TAX\n",
      "MEDV ~LSTAT + RM + PTRATIO + B\n",
      "MEDV ~LSTAT + RM + PTRATIO + DIS + CRIM\n",
      "MEDV ~LSTAT + RM + PTRATIO + DIS + ZN\n",
      "MEDV ~LSTAT + RM + PTRATIO + DIS + INDUS\n",
      "MEDV ~LSTAT + RM + PTRATIO + DIS + CHAS\n",
      "MEDV ~LSTAT + RM + PTRATIO + DIS + NOX\n",
      "MEDV ~LSTAT + RM + PTRATIO + DIS + AGE\n",
      "MEDV ~LSTAT + RM + PTRATIO + DIS + RAD\n",
      "MEDV ~LSTAT + RM + PTRATIO + DIS + TAX\n",
      "MEDV ~LSTAT + RM + PTRATIO + DIS + B\n",
      "MEDV ~LSTAT + RM + PTRATIO + DIS + NOX + CRIM\n",
      "MEDV ~LSTAT + RM + PTRATIO + DIS + NOX + ZN\n",
      "MEDV ~LSTAT + RM + PTRATIO + DIS + NOX + INDUS\n",
      "MEDV ~LSTAT + RM + PTRATIO + DIS + NOX + CHAS\n",
      "MEDV ~LSTAT + RM + PTRATIO + DIS + NOX + AGE\n",
      "MEDV ~LSTAT + RM + PTRATIO + DIS + NOX + RAD\n",
      "MEDV ~LSTAT + RM + PTRATIO + DIS + NOX + TAX\n",
      "MEDV ~LSTAT + RM + PTRATIO + DIS + NOX + B\n",
      "MEDV ~LSTAT + RM + PTRATIO + DIS + NOX + CHAS + CRIM\n",
      "MEDV ~LSTAT + RM + PTRATIO + DIS + NOX + CHAS + ZN\n",
      "MEDV ~LSTAT + RM + PTRATIO + DIS + NOX + CHAS + INDUS\n",
      "MEDV ~LSTAT + RM + PTRATIO + DIS + NOX + CHAS + AGE\n",
      "MEDV ~LSTAT + RM + PTRATIO + DIS + NOX + CHAS + RAD\n",
      "MEDV ~LSTAT + RM + PTRATIO + DIS + NOX + CHAS + TAX\n",
      "MEDV ~LSTAT + RM + PTRATIO + DIS + NOX + CHAS + B\n",
      "MEDV ~LSTAT + RM + PTRATIO + DIS + NOX + CHAS + B + CRIM\n",
      "MEDV ~LSTAT + RM + PTRATIO + DIS + NOX + CHAS + B + ZN\n",
      "MEDV ~LSTAT + RM + PTRATIO + DIS + NOX + CHAS + B + INDUS\n",
      "MEDV ~LSTAT + RM + PTRATIO + DIS + NOX + CHAS + B + AGE\n",
      "MEDV ~LSTAT + RM + PTRATIO + DIS + NOX + CHAS + B + RAD\n",
      "MEDV ~LSTAT + RM + PTRATIO + DIS + NOX + CHAS + B + TAX\n",
      "MEDV ~LSTAT + RM + PTRATIO + DIS + NOX + CHAS + B + ZN + CRIM\n",
      "MEDV ~LSTAT + RM + PTRATIO + DIS + NOX + CHAS + B + ZN + INDUS\n",
      "MEDV ~LSTAT + RM + PTRATIO + DIS + NOX + CHAS + B + ZN + AGE\n",
      "MEDV ~LSTAT + RM + PTRATIO + DIS + NOX + CHAS + B + ZN + RAD\n",
      "MEDV ~LSTAT + RM + PTRATIO + DIS + NOX + CHAS + B + ZN + TAX\n",
      "MEDV ~LSTAT + RM + PTRATIO + DIS + NOX + CHAS + B + ZN + CRIM + INDUS\n",
      "MEDV ~LSTAT + RM + PTRATIO + DIS + NOX + CHAS + B + ZN + CRIM + AGE\n",
      "MEDV ~LSTAT + RM + PTRATIO + DIS + NOX + CHAS + B + ZN + CRIM + RAD\n",
      "MEDV ~LSTAT + RM + PTRATIO + DIS + NOX + CHAS + B + ZN + CRIM + TAX\n",
      "MEDV ~LSTAT + RM + PTRATIO + DIS + NOX + CHAS + B + ZN + CRIM + RAD + INDUS\n",
      "MEDV ~LSTAT + RM + PTRATIO + DIS + NOX + CHAS + B + ZN + CRIM + RAD + AGE\n",
      "MEDV ~LSTAT + RM + PTRATIO + DIS + NOX + CHAS + B + ZN + CRIM + RAD + TAX\n",
      "MEDV ~LSTAT + RM + PTRATIO + DIS + NOX + CHAS + B + ZN + CRIM + RAD + TAX + INDUS\n",
      "MEDV ~LSTAT + RM + PTRATIO + DIS + NOX + CHAS + B + ZN + CRIM + RAD + TAX + AGE\n",
      "MEDV ~LSTAT + RM + PTRATIO + DIS + NOX + CHAS + B + ZN + CRIM + RAD + TAX + INDUS\n",
      "MEDV ~LSTAT + RM + PTRATIO + DIS + NOX + CHAS + B + ZN + CRIM + RAD + TAX + AGE\n"
     ]
    }
   ],
   "source": [
    "modelos = {'Modelo': [], 'R2_aj': []}\n",
    "\n",
    "primera_pasada = True\n",
    "campos = boston['feature_names'].tolist()\n",
    "max_r2 = 0\n",
    "variables_utilizadas = []\n",
    "pasadas_max = len(campos)\n",
    "formula_ant = 'MEDV ~'\n",
    "\n",
    "for pasada in range(pasadas_max):\n",
    "    #print(f'Pasada con {pasada} variables')\n",
    "    for c in campos:\n",
    "        if primera_pasada:\n",
    "            formula = formula_ant + c\n",
    "        else:\n",
    "            formula = formula_ant + ' + ' + c\n",
    "        print(formula)       \n",
    "        model = smf.ols(formula, data = boston_df).fit()\n",
    "        r2 = model.rsquared_adj\n",
    "        modelos['Modelo'].append(formula)\n",
    "        modelos['R2_aj'].append(r2)\n",
    "        \n",
    "        if (r2 > max_r2):\n",
    "            max_r2 = r2\n",
    "            formula_max = formula\n",
    "            campo_max = c\n",
    "            \n",
    "    variables_utilizadas.append(campo_max)\n",
    "    campos = [val for val in campos if val not in variables_utilizadas]\n",
    "    formula_ant = formula_max\n",
    "    primera_pasada = False "
   ]
  },
  {
   "cell_type": "code",
   "execution_count": 32,
   "metadata": {
    "colab": {
     "base_uri": "https://localhost:8080/",
     "height": 414
    },
    "colab_type": "code",
    "executionInfo": {
     "elapsed": 865,
     "status": "ok",
     "timestamp": 1600715204859,
     "user": {
      "displayName": "Federico Cardoso",
      "photoUrl": "",
      "userId": "07880001849925101622"
     },
     "user_tz": 180
    },
    "id": "GwpMO9JiujAn",
    "outputId": "b144cef4-3a35-454e-a69b-7ce5b8519266"
   },
   "outputs": [
    {
     "data": {
      "text/html": [
       "<div>\n",
       "<style scoped>\n",
       "    .dataframe tbody tr th:only-of-type {\n",
       "        vertical-align: middle;\n",
       "    }\n",
       "\n",
       "    .dataframe tbody tr th {\n",
       "        vertical-align: top;\n",
       "    }\n",
       "\n",
       "    .dataframe thead th {\n",
       "        text-align: right;\n",
       "    }\n",
       "</style>\n",
       "<table border=\"1\" class=\"dataframe\">\n",
       "  <thead>\n",
       "    <tr style=\"text-align: right;\">\n",
       "      <th></th>\n",
       "      <th>Modelo</th>\n",
       "      <th>R2_aj</th>\n",
       "    </tr>\n",
       "  </thead>\n",
       "  <tbody>\n",
       "    <tr>\n",
       "      <th>0</th>\n",
       "      <td>MEDV ~CRIM</td>\n",
       "      <td>0.149096</td>\n",
       "    </tr>\n",
       "    <tr>\n",
       "      <th>1</th>\n",
       "      <td>MEDV ~ZN</td>\n",
       "      <td>0.128194</td>\n",
       "    </tr>\n",
       "    <tr>\n",
       "      <th>2</th>\n",
       "      <td>MEDV ~INDUS</td>\n",
       "      <td>0.232470</td>\n",
       "    </tr>\n",
       "    <tr>\n",
       "      <th>3</th>\n",
       "      <td>MEDV ~CHAS</td>\n",
       "      <td>0.028793</td>\n",
       "    </tr>\n",
       "    <tr>\n",
       "      <th>4</th>\n",
       "      <td>MEDV ~NOX</td>\n",
       "      <td>0.180981</td>\n",
       "    </tr>\n",
       "    <tr>\n",
       "      <th>...</th>\n",
       "      <td>...</td>\n",
       "      <td>...</td>\n",
       "    </tr>\n",
       "    <tr>\n",
       "      <th>87</th>\n",
       "      <td>MEDV ~LSTAT + RM + PTRATIO + DIS + NOX + CHAS ...</td>\n",
       "      <td>0.734806</td>\n",
       "    </tr>\n",
       "    <tr>\n",
       "      <th>88</th>\n",
       "      <td>MEDV ~LSTAT + RM + PTRATIO + DIS + NOX + CHAS ...</td>\n",
       "      <td>0.734328</td>\n",
       "    </tr>\n",
       "    <tr>\n",
       "      <th>89</th>\n",
       "      <td>MEDV ~LSTAT + RM + PTRATIO + DIS + NOX + CHAS ...</td>\n",
       "      <td>0.734269</td>\n",
       "    </tr>\n",
       "    <tr>\n",
       "      <th>90</th>\n",
       "      <td>MEDV ~LSTAT + RM + PTRATIO + DIS + NOX + CHAS ...</td>\n",
       "      <td>0.734328</td>\n",
       "    </tr>\n",
       "    <tr>\n",
       "      <th>91</th>\n",
       "      <td>MEDV ~LSTAT + RM + PTRATIO + DIS + NOX + CHAS ...</td>\n",
       "      <td>0.734269</td>\n",
       "    </tr>\n",
       "  </tbody>\n",
       "</table>\n",
       "<p>92 rows × 2 columns</p>\n",
       "</div>"
      ],
      "text/plain": [
       "                                               Modelo     R2_aj\n",
       "0                                          MEDV ~CRIM  0.149096\n",
       "1                                            MEDV ~ZN  0.128194\n",
       "2                                         MEDV ~INDUS  0.232470\n",
       "3                                          MEDV ~CHAS  0.028793\n",
       "4                                           MEDV ~NOX  0.180981\n",
       "..                                                ...       ...\n",
       "87  MEDV ~LSTAT + RM + PTRATIO + DIS + NOX + CHAS ...  0.734806\n",
       "88  MEDV ~LSTAT + RM + PTRATIO + DIS + NOX + CHAS ...  0.734328\n",
       "89  MEDV ~LSTAT + RM + PTRATIO + DIS + NOX + CHAS ...  0.734269\n",
       "90  MEDV ~LSTAT + RM + PTRATIO + DIS + NOX + CHAS ...  0.734328\n",
       "91  MEDV ~LSTAT + RM + PTRATIO + DIS + NOX + CHAS ...  0.734269\n",
       "\n",
       "[92 rows x 2 columns]"
      ]
     },
     "execution_count": 32,
     "metadata": {},
     "output_type": "execute_result"
    }
   ],
   "source": [
    "# pasamos el diccionario a Dataframe para poder visualizarlo mejor\n",
    "pd.DataFrame(modelos)"
   ]
  },
  {
   "cell_type": "code",
   "execution_count": null,
   "metadata": {
    "colab": {
     "base_uri": "https://localhost:8080/",
     "height": 34
    },
    "colab_type": "code",
    "executionInfo": {
     "elapsed": 834,
     "status": "ok",
     "timestamp": 1600715193622,
     "user": {
      "displayName": "Federico Cardoso",
      "photoUrl": "",
      "userId": "07880001849925101622"
     },
     "user_tz": 180
    },
    "id": "5m_3-kXHuk_3",
    "outputId": "d33d32bf-f745-49f0-99ed-e5e00e59fc58"
   },
   "outputs": [],
   "source": [
    "max_r2"
   ]
  },
  {
   "cell_type": "code",
   "execution_count": null,
   "metadata": {
    "colab": {
     "base_uri": "https://localhost:8080/",
     "height": 35
    },
    "colab_type": "code",
    "executionInfo": {
     "elapsed": 609,
     "status": "ok",
     "timestamp": 1600714785177,
     "user": {
      "displayName": "Federico Cardoso",
      "photoUrl": "",
      "userId": "07880001849925101622"
     },
     "user_tz": 180
    },
    "id": "1PROxYrCuq8y",
    "outputId": "05fd7e1a-87f9-4afb-93b3-2a7d354838de"
   },
   "outputs": [],
   "source": [
    "formula_max"
   ]
  }
 ],
 "metadata": {
  "colab": {
   "authorship_tag": "ABX9TyNeqy/r2GsZPsJxoVpIvoLS",
   "collapsed_sections": [],
   "name": "Lab Seleccion Fuerza Bruta y Stepwise.ipynb",
   "provenance": []
  },
  "kernelspec": {
   "display_name": "Python 3",
   "language": "python",
   "name": "python3"
  },
  "language_info": {
   "codemirror_mode": {
    "name": "ipython",
    "version": 3
   },
   "file_extension": ".py",
   "mimetype": "text/x-python",
   "name": "python",
   "nbconvert_exporter": "python",
   "pygments_lexer": "ipython3",
   "version": "3.9.7"
  }
 },
 "nbformat": 4,
 "nbformat_minor": 1
}
