{
 "cells": [
  {
   "cell_type": "markdown",
   "metadata": {
    "colab_type": "text",
    "id": "4g6yeKG10m92"
   },
   "source": [
    "# Importar Dataset"
   ]
  },
  {
   "cell_type": "code",
   "execution_count": null,
   "metadata": {
    "colab": {},
    "colab_type": "code",
    "id": "T_hShpRU0z41"
   },
   "outputs": [],
   "source": [
    "from sklearn.datasets import load_boston\n",
    "import numpy as np\n",
    "import pandas as pd"
   ]
  },
  {
   "cell_type": "code",
   "execution_count": null,
   "metadata": {
    "colab": {
     "base_uri": "https://localhost:8080/",
     "height": 34
    },
    "colab_type": "code",
    "executionInfo": {
     "elapsed": 1502,
     "status": "ok",
     "timestamp": 1598456529087,
     "user": {
      "displayName": "Federico Cardoso",
      "photoUrl": "",
      "userId": "07880001849925101622"
     },
     "user_tz": 180
    },
    "id": "8pa_oCZa0md6",
    "outputId": "bd718ae9-99fb-4a3e-af3c-a8be978deca7"
   },
   "outputs": [],
   "source": [
    "boston = load_boston()\n",
    "boston.keys()\n",
    "\n",
    "a = boston['data']\n",
    "b = boston['target']\n",
    "\n",
    "c = np.column_stack((a,b))\n",
    "\n",
    "columnas = boston['feature_names']\n",
    "columnas = np.append(columnas, 'MEDV')\n",
    "\n",
    "print('El dataset de Boston cuenta con {} filas y {} columnas'.format(c.shape[0], c.shape[1]))"
   ]
  },
  {
   "cell_type": "code",
   "execution_count": null,
   "metadata": {
    "colab": {
     "base_uri": "https://localhost:8080/",
     "height": 204
    },
    "colab_type": "code",
    "executionInfo": {
     "elapsed": 1492,
     "status": "ok",
     "timestamp": 1598456529088,
     "user": {
      "displayName": "Federico Cardoso",
      "photoUrl": "",
      "userId": "07880001849925101622"
     },
     "user_tz": 180
    },
    "id": "ETGssJovtlA0",
    "outputId": "83d6bdbe-1c25-4ef2-b9ce-b9c0ff94e363"
   },
   "outputs": [],
   "source": [
    "boston_df = pd.DataFrame(c, columns = columnas)\n",
    "boston_df.head()"
   ]
  },
  {
   "cell_type": "markdown",
   "metadata": {
    "colab_type": "text",
    "id": "QX9i4jpn3RAG"
   },
   "source": [
    "# Armado de modelos"
   ]
  },
  {
   "cell_type": "markdown",
   "metadata": {
    "colab_type": "text",
    "id": "DTlr3J753Ygu"
   },
   "source": [
    "Como para este dataset ya hicimos la inspeccion visual en el anterior ejemplo, vamos directamente a utilizar la libreria de Statsmodel para verificar relaciones entre mas de una variable."
   ]
  },
  {
   "cell_type": "code",
   "execution_count": null,
   "metadata": {
    "colab": {
     "base_uri": "https://localhost:8080/",
     "height": 51
    },
    "colab_type": "code",
    "executionInfo": {
     "elapsed": 2068,
     "status": "ok",
     "timestamp": 1598456529667,
     "user": {
      "displayName": "Federico Cardoso",
      "photoUrl": "",
      "userId": "07880001849925101622"
     },
     "user_tz": 180
    },
    "id": "Lw-4r3wH3QhZ",
    "outputId": "d9ee4f8a-978a-4731-cab0-e93f49eeaa13"
   },
   "outputs": [],
   "source": [
    "import statsmodels.api as sm\n",
    "import statsmodels.formula.api as smf"
   ]
  },
  {
   "cell_type": "code",
   "execution_count": null,
   "metadata": {
    "colab": {
     "base_uri": "https://localhost:8080/",
     "height": 459
    },
    "colab_type": "code",
    "executionInfo": {
     "elapsed": 2562,
     "status": "ok",
     "timestamp": 1598456530174,
     "user": {
      "displayName": "Federico Cardoso",
      "photoUrl": "",
      "userId": "07880001849925101622"
     },
     "user_tz": 180
    },
    "id": "a4KEWYY21Bed",
    "outputId": "17aa3e06-bbf1-45a1-9b1b-fdef1e75ce1e"
   },
   "outputs": [],
   "source": [
    "# Ajustamos el modelo con una sóla lína de código agregandole la edad, mediante la función \"ols\" del paquete \"statmodels\"\n",
    "model = smf.ols(\"MEDV ~ LSTAT + AGE\", data=boston_df).fit()\n",
    "print(model.summary())"
   ]
  },
  {
   "cell_type": "code",
   "execution_count": null,
   "metadata": {
    "colab": {
     "base_uri": "https://localhost:8080/",
     "height": 255
    },
    "colab_type": "code",
    "executionInfo": {
     "elapsed": 2550,
     "status": "ok",
     "timestamp": 1598456530175,
     "user": {
      "displayName": "Federico Cardoso",
      "photoUrl": "",
      "userId": "07880001849925101622"
     },
     "user_tz": 180
    },
    "id": "zEZCjE3N6ryT",
    "outputId": "7e9c2e3c-d570-4778-df7c-bc19687eff77"
   },
   "outputs": [],
   "source": [
    "# como no tenemos un metodo para poder llamar a todas las columnas dentro de la formula, necesitamos creal el string con todos los valores sumados, una forma de hacerlo es la siguiente.\n",
    "\n",
    "# primero creamos una lista con las columnas, ya que para mas adelante nos va a servir esta metodologia para programar\n",
    "columnas = [*boston_df.columns] # al poner a boston_df.columns generamos el index del DataFrame, y con los corchetes y el *, hacemos lo que se llama \"unpack\", en otras palabras lo transformamos en una lista.\n",
    "\n",
    "# verifiquemos nuestra nueva lista\n",
    "columnas"
   ]
  },
  {
   "cell_type": "code",
   "execution_count": null,
   "metadata": {
    "colab": {
     "base_uri": "https://localhost:8080/",
     "height": 35
    },
    "colab_type": "code",
    "executionInfo": {
     "elapsed": 2540,
     "status": "ok",
     "timestamp": 1598456530177,
     "user": {
      "displayName": "Federico Cardoso",
      "photoUrl": "",
      "userId": "07880001849925101622"
     },
     "user_tz": 180
    },
    "id": "skMkmLpIIizr",
    "outputId": "32140d9c-c252-474f-dab7-dc437f3a5de4"
   },
   "outputs": [],
   "source": [
    "# debemos remover MEDV ya que es el valor a estimar, para esto utilizaremos una funcion segura para remover un elemento de la lista y a su vez lo imprime para saber cual es\n",
    "columnas.pop(-1)"
   ]
  },
  {
   "cell_type": "code",
   "execution_count": null,
   "metadata": {
    "colab": {
     "base_uri": "https://localhost:8080/",
     "height": 238
    },
    "colab_type": "code",
    "executionInfo": {
     "elapsed": 2530,
     "status": "ok",
     "timestamp": 1598456530177,
     "user": {
      "displayName": "Federico Cardoso",
      "photoUrl": "",
      "userId": "07880001849925101622"
     },
     "user_tz": 180
    },
    "id": "y80jcHQEJH-z",
    "outputId": "151dae20-0c26-4ce4-c6e3-becc37d73a54"
   },
   "outputs": [],
   "source": [
    "# verifiquemos que el elemento haya sido removido\n",
    "columnas"
   ]
  },
  {
   "cell_type": "code",
   "execution_count": null,
   "metadata": {
    "colab": {
     "base_uri": "https://localhost:8080/",
     "height": 35
    },
    "colab_type": "code",
    "executionInfo": {
     "elapsed": 2518,
     "status": "ok",
     "timestamp": 1598456530178,
     "user": {
      "displayName": "Federico Cardoso",
      "photoUrl": "",
      "userId": "07880001849925101622"
     },
     "user_tz": 180
    },
    "id": "-7Y6tLonIbaa",
    "outputId": "c3f207dd-1bb7-4754-bc5d-4309df26666f"
   },
   "outputs": [],
   "source": [
    "# EXCELENTE! ahora tenemos todo para empezar, al momento de manejar strings en python tenemos muchas alternativas, para este caso como \n",
    "# solo queremos probar una regresion lineal multiple con todas las variables sumadas, utilizaremos el metodo .join()\n",
    "\n",
    "all_columns = \"+\".join(columnas)\n",
    "formula = 'MEDV ~ ' + all_columns\n",
    "formula"
   ]
  },
  {
   "cell_type": "code",
   "execution_count": null,
   "metadata": {
    "colab": {
     "base_uri": "https://localhost:8080/",
     "height": 680
    },
    "colab_type": "code",
    "executionInfo": {
     "elapsed": 2507,
     "status": "ok",
     "timestamp": 1598456530179,
     "user": {
      "displayName": "Federico Cardoso",
      "photoUrl": "",
      "userId": "07880001849925101622"
     },
     "user_tz": 180
    },
    "id": "pxpmFEvX32zH",
    "outputId": "391fa949-aa77-4744-c700-8f7514cc9715"
   },
   "outputs": [],
   "source": [
    "# Ajustamos el modelo con una sóla lína de código con todas las variables, utilizando el punto para referenciar a todas las variables.\n",
    "model = smf.ols(formula, data=boston_df).fit()\n",
    "print(model.summary())"
   ]
  },
  {
   "cell_type": "markdown",
   "metadata": {
    "colab_type": "text",
    "id": "aMkqITIp889p"
   },
   "source": [
    "Como vimos en la clase pasada, tambien es posible realizar consultas particulares al modelo para obtener los resultados de R2, R2 ajustado, etc."
   ]
  },
  {
   "cell_type": "code",
   "execution_count": null,
   "metadata": {
    "colab": {
     "base_uri": "https://localhost:8080/",
     "height": 34
    },
    "colab_type": "code",
    "executionInfo": {
     "elapsed": 2495,
     "status": "ok",
     "timestamp": 1598456530180,
     "user": {
      "displayName": "Federico Cardoso",
      "photoUrl": "",
      "userId": "07880001849925101622"
     },
     "user_tz": 180
    },
    "id": "8YG04kCq74tj",
    "outputId": "68dc9b45-f3e5-4f25-a44a-a6adf7cadbfe"
   },
   "outputs": [],
   "source": [
    "modelo1_r2_aj = model.rsquared_adj\n",
    "modelo1_r2_aj"
   ]
  },
  {
   "cell_type": "markdown",
   "metadata": {
    "colab_type": "text",
    "id": "LsQtB0OGAsLS"
   },
   "source": [
    "Como ya tenemos guardada la formula utilizada en este caso y el valor de R2_ajustado obtenido, iniciaremos un diccionario para almacenar los datos que luego convertiremos en DataFrame para analizarlo."
   ]
  },
  {
   "cell_type": "code",
   "execution_count": null,
   "metadata": {
    "colab": {
     "base_uri": "https://localhost:8080/",
     "height": 51
    },
    "colab_type": "code",
    "executionInfo": {
     "elapsed": 2483,
     "status": "ok",
     "timestamp": 1598456530180,
     "user": {
      "displayName": "Federico Cardoso",
      "photoUrl": "",
      "userId": "07880001849925101622"
     },
     "user_tz": 180
    },
    "id": "jY5dv6SqAICJ",
    "outputId": "99dbb431-b628-4e36-8831-f39ac6f440f3"
   },
   "outputs": [],
   "source": [
    "modelos = {'Formula': [formula], 'R2_ajustado': [modelo1_r2_aj]} # IMPORTANTE: estamos generando una lista dentr de cada campo clave del diccionario, asi de esta manera podremos agregar valores de nuevos modelos\n",
    "modelos"
   ]
  },
  {
   "cell_type": "code",
   "execution_count": null,
   "metadata": {
    "colab": {},
    "colab_type": "code",
    "id": "zmAC8fD0AeSj"
   },
   "outputs": [],
   "source": [
    "# que pasa si queremos probar la regresion multiple pero sin un campo\n",
    "columnas.remove('ZN') # o bien podriamos haber utilizado el metodo .pop() con el index del lugar donde se encuentra el campo que queremos eliminar."
   ]
  },
  {
   "cell_type": "code",
   "execution_count": null,
   "metadata": {
    "colab": {
     "base_uri": "https://localhost:8080/",
     "height": 35
    },
    "colab_type": "code",
    "executionInfo": {
     "elapsed": 2469,
     "status": "ok",
     "timestamp": 1598456530181,
     "user": {
      "displayName": "Federico Cardoso",
      "photoUrl": "",
      "userId": "07880001849925101622"
     },
     "user_tz": 180
    },
    "id": "iwoV_4xRF6y2",
    "outputId": "9a480665-66f8-4fcd-f870-95d836c90f95"
   },
   "outputs": [],
   "source": [
    "# volvemos a generar el string para poder tener los datos que queremos en la formula\n",
    "all_columns = \"+\".join(columnas)\n",
    "formula = 'MEDV ~ ' + all_columns\n",
    "formula"
   ]
  },
  {
   "cell_type": "code",
   "execution_count": null,
   "metadata": {
    "colab": {
     "base_uri": "https://localhost:8080/",
     "height": 663
    },
    "colab_type": "code",
    "executionInfo": {
     "elapsed": 2458,
     "status": "ok",
     "timestamp": 1598456530182,
     "user": {
      "displayName": "Federico Cardoso",
      "photoUrl": "",
      "userId": "07880001849925101622"
     },
     "user_tz": 180
    },
    "id": "3cO9OCJYX679",
    "outputId": "60f854b5-7808-45ae-fd03-288ebbd18146"
   },
   "outputs": [],
   "source": [
    "# creamos el nuevo modelo y verificamos que han cambiado los valores, ya la variable ZN no la tenemos en nuestro modelo\n",
    "model = smf.ols(formula, data=boston_df).fit()\n",
    "print(model.summary())"
   ]
  },
  {
   "cell_type": "code",
   "execution_count": null,
   "metadata": {
    "colab": {},
    "colab_type": "code",
    "id": "VEcHmsjAYZfw"
   },
   "outputs": [],
   "source": [
    "# ahora veamos como agregar estos campos al diccionario ya creado.\n",
    "\n",
    "modelos['Formula'].append(formula)\n",
    "modelos['R2_ajustado'].append(model.rsquared_adj)"
   ]
  },
  {
   "cell_type": "markdown",
   "metadata": {
    "colab_type": "text",
    "id": "QarD-f5VeY69"
   },
   "source": [
    "# Interaccion entre terminos"
   ]
  },
  {
   "cell_type": "code",
   "execution_count": null,
   "metadata": {
    "colab": {
     "base_uri": "https://localhost:8080/",
     "height": 510
    },
    "colab_type": "code",
    "executionInfo": {
     "elapsed": 2447,
     "status": "ok",
     "timestamp": 1598456530184,
     "user": {
      "displayName": "Federico Cardoso",
      "photoUrl": "",
      "userId": "07880001849925101622"
     },
     "user_tz": 180
    },
    "id": "V2x_Q8TXcCkV",
    "outputId": "234eb7b2-0bc3-4f91-c3d2-31d0f6d0fd7f"
   },
   "outputs": [],
   "source": [
    "# es facil cambiar el modelo que se quiere utilizar otra formula, simplemente la expresas luego del ~, veamos un ejemplo\n",
    "# supongamos que queremos armar un modelo que tenga en cuenta la multiplicacion entre LSTAT y AGE.\n",
    "\n",
    "\n",
    "# ARMAR EL MODELO QUE UTILICE LOS PARAMETROS MULTIPLICADOS"
   ]
  },
  {
   "cell_type": "code",
   "execution_count": null,
   "metadata": {
    "colab": {
     "base_uri": "https://localhost:8080/",
     "height": 85
    },
    "colab_type": "code",
    "executionInfo": {
     "elapsed": 2439,
     "status": "ok",
     "timestamp": 1598456530185,
     "user": {
      "displayName": "Federico Cardoso",
      "photoUrl": "",
      "userId": "07880001849925101622"
     },
     "user_tz": 180
    },
    "id": "wVxbg-epfOfY",
    "outputId": "a4a5b5cc-48f1-47a1-e3e5-89b52854e2e9"
   },
   "outputs": [],
   "source": [
    "# agreguemos de nuevo los campos al diccionario.\n",
    "\n",
    "\n"
   ]
  },
  {
   "cell_type": "markdown",
   "metadata": {
    "colab_type": "text",
    "id": "4fzzNB4qgpJ8"
   },
   "source": [
    "# Transformaciones no lineales a los predictores"
   ]
  },
  {
   "cell_type": "code",
   "execution_count": null,
   "metadata": {
    "colab": {
     "base_uri": "https://localhost:8080/",
     "height": 493
    },
    "colab_type": "code",
    "executionInfo": {
     "elapsed": 2432,
     "status": "ok",
     "timestamp": 1598456530186,
     "user": {
      "displayName": "Federico Cardoso",
      "photoUrl": "",
      "userId": "07880001849925101622"
     },
     "user_tz": 180
    },
    "id": "5Vw_izkafjQz",
    "outputId": "70d6bd22-2094-45d7-b7a2-c47e5debb266"
   },
   "outputs": [],
   "source": [
    "# ahora vamos a probar incluir en la formula un predictor elevado a otro orden, es decir, dado un predictor X, podemos crear un predictor X^2\n",
    "# para hacer esto, es necesario que agreguemos el termino que querramos elevar dentro de: I(...), veamoslo mejor en el ejemplo\n",
    "\n",
    "formula = 'MEDV ~ LSTAT + I(LSTAT**2)'\n",
    "model = smf.ols(formula, data = boston_df).fit()\n",
    "print(model.summary())"
   ]
  },
  {
   "cell_type": "code",
   "execution_count": null,
   "metadata": {
    "colab": {
     "base_uri": "https://localhost:8080/",
     "height": 153
    },
    "colab_type": "code",
    "executionInfo": {
     "elapsed": 2424,
     "status": "ok",
     "timestamp": 1598456530186,
     "user": {
      "displayName": "Federico Cardoso",
      "photoUrl": "",
      "userId": "07880001849925101622"
     },
     "user_tz": 180
    },
    "id": "GQou5FfYpb0b",
    "outputId": "ef5878c8-1299-4ba9-d036-4ddcd7e478c0"
   },
   "outputs": [],
   "source": [
    "# nuevamente lo agregamos al diccionario\n",
    "\n",
    "\n",
    "\n"
   ]
  },
  {
   "cell_type": "markdown",
   "metadata": {
    "colab_type": "text",
    "id": "R2JIpd5gryEc"
   },
   "source": [
    "# Graficamos"
   ]
  },
  {
   "cell_type": "code",
   "execution_count": null,
   "metadata": {
    "colab": {},
    "colab_type": "code",
    "id": "ZPkg5AZbptW1"
   },
   "outputs": [],
   "source": [
    "# vamos a graficar el ultimo modelo, por esto necesitamos importar las librerias requeridas para graficar y a su vez, obtener los valores de las pendientes y ordenada del modelo\n",
    "\n",
    "import matplotlib.pyplot as plt\n",
    "import seaborn as sns"
   ]
  },
  {
   "cell_type": "code",
   "execution_count": null,
   "metadata": {
    "colab": {},
    "colab_type": "code",
    "id": "Eq67RiLNsUpA"
   },
   "outputs": [],
   "source": [
    "# descomponemos el modelo\n",
    "\n",
    "b = model.params[0]\n",
    "m = model.params[1]\n",
    "k = model.params[2]"
   ]
  },
  {
   "cell_type": "code",
   "execution_count": null,
   "metadata": {
    "colab": {
     "base_uri": "https://localhost:8080/",
     "height": 638
    },
    "colab_type": "code",
    "executionInfo": {
     "elapsed": 3379,
     "status": "ok",
     "timestamp": 1598456531157,
     "user": {
      "displayName": "Federico Cardoso",
      "photoUrl": "",
      "userId": "07880001849925101622"
     },
     "user_tz": 180
    },
    "id": "mUFRU8Acr6px",
    "outputId": "e4dbcbba-0819-4ee2-e5d5-495a8913945b"
   },
   "outputs": [],
   "source": [
    "x_recta = np.linspace(0, 40, 100)\n",
    "\n",
    "#la nueva recta ahora posee un nuevo componente a diferencia del anterior\n",
    "y_recta = m * x_recta + k * (x_recta ** 2)+ b\n",
    "\n",
    "sns.set_style('whitegrid')\n",
    "\n",
    "fig, ax = plt.subplots(figsize = (15,10))\n",
    "ax.plot(x_recta, y_recta, c = 'b')\n",
    "sns.scatterplot(x = 'LSTAT',\n",
    "                y = 'MEDV',\n",
    "                data = boston_df,\n",
    "                ax = ax\n",
    "                )\n",
    "ax.set_title('Regresion cuadratica')"
   ]
  },
  {
   "cell_type": "markdown",
   "metadata": {
    "colab_type": "text",
    "id": "14ZQkaE-tq2N"
   },
   "source": [
    "# Probemos mas grados"
   ]
  },
  {
   "cell_type": "code",
   "execution_count": null,
   "metadata": {
    "colab": {
     "base_uri": "https://localhost:8080/",
     "height": 510
    },
    "colab_type": "code",
    "executionInfo": {
     "elapsed": 938,
     "status": "ok",
     "timestamp": 1598456698819,
     "user": {
      "displayName": "Federico Cardoso",
      "photoUrl": "",
      "userId": "07880001849925101622"
     },
     "user_tz": 180
    },
    "id": "iRcm8AFxtp5f",
    "outputId": "79719272-1df9-4e34-c078-6ef9cf246773"
   },
   "outputs": [],
   "source": [
    "# ahora vamos a probar incluir en la formula un predictor elevado a otro orden, es decir, dado un predictor X, podemos crear un predictor X^2\n",
    "# para hacer esto, es necesario que agreguemos el termino que querramos elevar dentro de: I(...), veamoslo mejor en el ejemplo\n",
    "\n",
    "\n",
    "\n",
    "\n",
    "# ARMAR MODELO CON EL PREDICTOR DE SUPERFICIE AL CUBO\n",
    "\n"
   ]
  },
  {
   "cell_type": "code",
   "execution_count": null,
   "metadata": {
    "colab": {
     "base_uri": "https://localhost:8080/",
     "height": 187
    },
    "colab_type": "code",
    "executionInfo": {
     "elapsed": 3364,
     "status": "ok",
     "timestamp": 1598456531160,
     "user": {
      "displayName": "Federico Cardoso",
      "photoUrl": "",
      "userId": "07880001849925101622"
     },
     "user_tz": 180
    },
    "id": "HaaEbGIyZqY-",
    "outputId": "d17cb954-51e2-4efc-c346-fb57b5ba27fe"
   },
   "outputs": [],
   "source": [
    "# nuevamente lo agregamos al diccionario\n",
    "\n",
    "\n",
    "\n"
   ]
  },
  {
   "cell_type": "code",
   "execution_count": null,
   "metadata": {
    "colab": {
     "base_uri": "https://localhost:8080/",
     "height": 85
    },
    "colab_type": "code",
    "executionInfo": {
     "elapsed": 938,
     "status": "ok",
     "timestamp": 1598456722359,
     "user": {
      "displayName": "Federico Cardoso",
      "photoUrl": "",
      "userId": "07880001849925101622"
     },
     "user_tz": 180
    },
    "id": "nTSj749JHTIs",
    "outputId": "490ecc17-315d-4b01-bb5b-d26cb1010aca"
   },
   "outputs": [],
   "source": [
    "# IMPORTANTE: en el caso que ya tengamos mas de un coeficiente y querramos ver la prediccion a traves de un DataFrame, existe la posibilidad de \n",
    "# utilizar el metodo predict sobre el modelo construido pero es importante que se le asigne un formato de DataFrame acorde al modelo inicial\n",
    "# haremos un simple ejemplo con 3 datos para ver las predicciones y luego predeciremos el boston completo\n",
    "\n",
    "prueba = {'LSTAT':[5, 15, 25]}\n",
    "prueba = pd.DataFrame(prueba)\n",
    "\n",
    "model.predict(prueba)"
   ]
  },
  {
   "cell_type": "code",
   "execution_count": null,
   "metadata": {
    "colab": {
     "base_uri": "https://localhost:8080/",
     "height": 592
    },
    "colab_type": "code",
    "executionInfo": {
     "elapsed": 4371,
     "status": "ok",
     "timestamp": 1598456532182,
     "user": {
      "displayName": "Federico Cardoso",
      "photoUrl": "",
      "userId": "07880001849925101622"
     },
     "user_tz": 180
    },
    "id": "skm_CchkdB5D",
    "outputId": "c3bfd0de-1e09-46b9-952a-d3da1bc61b83"
   },
   "outputs": [],
   "source": [
    "#cargamos las predicciones en la variable medvpred y luego la utilizamos para plotear\n",
    "medvpred = model.predict(boston_df)\n",
    "\n",
    "fig, ax = plt.subplots(1, figsize = (15,10))\n",
    "ax.scatter(boston_df['LSTAT'], medvpred, c = 'b')\n",
    "ax.scatter(boston_df['LSTAT'], boston_df['MEDV'], c = 'r')\n",
    "plt.show()"
   ]
  },
  {
   "cell_type": "code",
   "execution_count": null,
   "metadata": {
    "colab": {
     "base_uri": "https://localhost:8080/",
     "height": 629
    },
    "colab_type": "code",
    "executionInfo": {
     "elapsed": 4363,
     "status": "ok",
     "timestamp": 1598456532183,
     "user": {
      "displayName": "Federico Cardoso",
      "photoUrl": "",
      "userId": "07880001849925101622"
     },
     "user_tz": 180
    },
    "id": "ZbuOuCYFdalw",
    "outputId": "693bc319-eafe-4f38-8a2e-7007ec65ba2e"
   },
   "outputs": [],
   "source": [
    "# ahora hagamos una prediccion de un orden superior\n",
    "\n",
    "formula = 'MEDV ~ LSTAT + I(LSTAT**2) + I(LSTAT**3) + I(LSTAT**4) + I(LSTAT**5) + I(LSTAT**6) + I(LSTAT**7) + I(LSTAT**8) + I(LSTAT**9) + I(LSTAT**10)'\n",
    "model = smf.ols(formula, data = boston_df).fit()\n",
    "print(model.summary())"
   ]
  },
  {
   "cell_type": "code",
   "execution_count": null,
   "metadata": {
    "colab": {
     "base_uri": "https://localhost:8080/",
     "height": 221
    },
    "colab_type": "code",
    "executionInfo": {
     "elapsed": 4357,
     "status": "ok",
     "timestamp": 1598456532184,
     "user": {
      "displayName": "Federico Cardoso",
      "photoUrl": "",
      "userId": "07880001849925101622"
     },
     "user_tz": 180
    },
    "id": "5URLC1K4eVC_",
    "outputId": "c61c8be7-fae8-4bff-87fa-251ca06ca523"
   },
   "outputs": [],
   "source": [
    "# nuevamente lo agregamos al diccionario\n",
    "modelos['Formula'].append(formula)\n",
    "modelos['R2_ajustado'].append(model.rsquared_adj)\n",
    "modelos"
   ]
  },
  {
   "cell_type": "code",
   "execution_count": null,
   "metadata": {
    "colab": {
     "base_uri": "https://localhost:8080/",
     "height": 592
    },
    "colab_type": "code",
    "executionInfo": {
     "elapsed": 4351,
     "status": "ok",
     "timestamp": 1598456532185,
     "user": {
      "displayName": "Federico Cardoso",
      "photoUrl": "",
      "userId": "07880001849925101622"
     },
     "user_tz": 180
    },
    "id": "adncRclnUCvN",
    "outputId": "865b858e-f5d2-41c5-f0ef-ffa9dac5a930"
   },
   "outputs": [],
   "source": [
    "#cargamos las predicciones en la variable medvpred y luego la utilizamos para plotear\n",
    "\n",
    "\n",
    "# PREDECIR LOS VALORES DEL DATASET\n",
    "\n",
    "# GRAFICAR"
   ]
  },
  {
   "cell_type": "markdown",
   "metadata": {
    "colab_type": "text",
    "id": "H0GWUJKjV3tt"
   },
   "source": [
    "# Regresion polinomial multiple"
   ]
  },
  {
   "cell_type": "code",
   "execution_count": null,
   "metadata": {
    "colab": {
     "base_uri": "https://localhost:8080/",
     "height": 544
    },
    "colab_type": "code",
    "executionInfo": {
     "elapsed": 4345,
     "status": "ok",
     "timestamp": 1598456532186,
     "user": {
      "displayName": "Federico Cardoso",
      "photoUrl": "",
      "userId": "07880001849925101622"
     },
     "user_tz": 180
    },
    "id": "YxHo2IVZV3Oh",
    "outputId": "6c394b37-2b0b-4206-94c6-d410c51d9a22"
   },
   "outputs": [],
   "source": [
    "# lo bueno de este metodo es que no importa el tipo de transformacion que querramos hacer, siempre la notacion es la misma.\n",
    "\n",
    "formula = 'MEDV ~ LSTAT + I(LSTAT**2) + AGE + I(AGE**2) + I(AGE**3)'\n",
    "\n",
    "model = smf.ols(formula, data = boston_df).fit()\n",
    "\n",
    "print(model.summary())"
   ]
  },
  {
   "cell_type": "code",
   "execution_count": null,
   "metadata": {
    "colab": {
     "base_uri": "https://localhost:8080/",
     "height": 255
    },
    "colab_type": "code",
    "executionInfo": {
     "elapsed": 4339,
     "status": "ok",
     "timestamp": 1598456532187,
     "user": {
      "displayName": "Federico Cardoso",
      "photoUrl": "",
      "userId": "07880001849925101622"
     },
     "user_tz": 180
    },
    "id": "VKnE-SuuZs9O",
    "outputId": "b17915a0-c15b-467d-a1a7-11a6ad57888a"
   },
   "outputs": [],
   "source": [
    "# nuevamente lo agregamos al diccionario\n",
    "modelos['Formula'].append(formula)\n",
    "modelos['R2_ajustado'].append(model.rsquared_adj)\n",
    "modelos"
   ]
  },
  {
   "cell_type": "markdown",
   "metadata": {
    "colab_type": "text",
    "id": "VxqRWRufXsTY"
   },
   "source": [
    "# Regresion logaritmica"
   ]
  },
  {
   "cell_type": "code",
   "execution_count": null,
   "metadata": {
    "colab": {
     "base_uri": "https://localhost:8080/",
     "height": 442
    },
    "colab_type": "code",
    "executionInfo": {
     "elapsed": 4332,
     "status": "ok",
     "timestamp": 1598456532187,
     "user": {
      "displayName": "Federico Cardoso",
      "photoUrl": "",
      "userId": "07880001849925101622"
     },
     "user_tz": 180
    },
    "id": "qAUhoBOoXruS",
    "outputId": "816c9b6d-d189-4b3d-c1a8-ad9799a6c459"
   },
   "outputs": [],
   "source": [
    "# por supuesto, no estamos de ninguna manera restringidos al uso de transformaciones de los predictores\n",
    "# Ahora vamos a intentar una transformacion logaritmica\n",
    "\n",
    "formula = 'MEDV ~ np.log(LSTAT)'\n",
    "\n",
    "model = smf.ols(formula, data = boston_df).fit()\n",
    "\n",
    "print(model.summary())"
   ]
  },
  {
   "cell_type": "code",
   "execution_count": null,
   "metadata": {
    "colab": {
     "base_uri": "https://localhost:8080/",
     "height": 289
    },
    "colab_type": "code",
    "executionInfo": {
     "elapsed": 4325,
     "status": "ok",
     "timestamp": 1598456532188,
     "user": {
      "displayName": "Federico Cardoso",
      "photoUrl": "",
      "userId": "07880001849925101622"
     },
     "user_tz": 180
    },
    "id": "LQdmI7rwZutv",
    "outputId": "f2907e16-d5fd-4779-f062-824b48f5232a"
   },
   "outputs": [],
   "source": [
    "# nuevamente lo agregamos al diccionario\n",
    "modelos['Formula'].append(formula)\n",
    "modelos['R2_ajustado'].append(model.rsquared_adj)\n",
    "modelos"
   ]
  },
  {
   "cell_type": "code",
   "execution_count": null,
   "metadata": {
    "colab": {
     "base_uri": "https://localhost:8080/",
     "height": 527
    },
    "colab_type": "code",
    "executionInfo": {
     "elapsed": 4316,
     "status": "ok",
     "timestamp": 1598456532188,
     "user": {
      "displayName": "Federico Cardoso",
      "photoUrl": "",
      "userId": "07880001849925101622"
     },
     "user_tz": 180
    },
    "id": "Sk_52ObHZ7ko",
    "outputId": "ed37fdcf-f341-47c0-96ce-94412fd468e8"
   },
   "outputs": [],
   "source": [
    "# y tambien, porque no aplicar una transformacion sobre la variable objetivo\n",
    "\n",
    "formula = 'np.log(MEDV) ~ LSTAT + I(LSTAT**2) + I(LSTAT**3) + I(LSTAT**4)'\n",
    "\n",
    "model = smf.ols(formula, data = boston_df).fit()\n",
    "\n",
    "print(model.summary())"
   ]
  },
  {
   "cell_type": "code",
   "execution_count": null,
   "metadata": {
    "colab": {
     "base_uri": "https://localhost:8080/",
     "height": 323
    },
    "colab_type": "code",
    "executionInfo": {
     "elapsed": 4308,
     "status": "ok",
     "timestamp": 1598456532189,
     "user": {
      "displayName": "Federico Cardoso",
      "photoUrl": "",
      "userId": "07880001849925101622"
     },
     "user_tz": 180
    },
    "id": "Ohxq5SO9ckjq",
    "outputId": "e6697780-0cd6-4048-b88f-43eb5c3e594f"
   },
   "outputs": [],
   "source": [
    "# nuevamente lo agregamos al diccionario\n",
    "modelos['Formula'].append(formula)\n",
    "modelos['R2_ajustado'].append(model.rsquared_adj)\n",
    "modelos"
   ]
  },
  {
   "cell_type": "code",
   "execution_count": null,
   "metadata": {
    "colab": {
     "base_uri": "https://localhost:8080/",
     "height": 328
    },
    "colab_type": "code",
    "executionInfo": {
     "elapsed": 4301,
     "status": "ok",
     "timestamp": 1598456532189,
     "user": {
      "displayName": "Federico Cardoso",
      "photoUrl": "",
      "userId": "07880001849925101622"
     },
     "user_tz": 180
    },
    "id": "iV7ylpMscmHR",
    "outputId": "d09b4acd-15d9-47ca-86ed-b7f1cf568f28"
   },
   "outputs": [],
   "source": [
    "# Para mejorar la visualizacion de los datos recolectados en el diccionario, transformaremos el mismo en un DataFrame\n",
    "\n",
    "modelos = pd.DataFrame(modelos)\n",
    "modelos"
   ]
  },
  {
   "cell_type": "markdown",
   "metadata": {
    "colab_type": "text",
    "id": "WeaVRbUZbsk3"
   },
   "source": [
    "# ACTIVIDADES:\n",
    "\n",
    "## - Plotear todos los modelos, de ayuda vamos a citar el codigo que nos servira para el ejercicio.\n",
    "        medvpred = model.predict(boston_df)\n",
    "\n",
    "        fig, ax = plt.subplots(1, figsize = (15,10))\n",
    "        ax.scatter(boston_df['LSTAT'], medvpred, c = 'b')\n",
    "        ax.scatter(boston_df['LSTAT'], boston_df['MEDV'], c = 'r')\n",
    "        plt.show()\n",
    "\n",
    "## - Realizar un script que permita hacer un stepwise o stepfoward para encontrar el modelo con el mayor R2 ajustado."
   ]
  }
 ],
 "metadata": {
  "colab": {
   "collapsed_sections": [],
   "name": "Regresion lineal multiple - Boston - ALUMNOS.ipynb",
   "provenance": []
  },
  "kernelspec": {
   "display_name": "Python 3",
   "language": "python",
   "name": "python3"
  },
  "language_info": {
   "codemirror_mode": {
    "name": "ipython",
    "version": 3
   },
   "file_extension": ".py",
   "mimetype": "text/x-python",
   "name": "python",
   "nbconvert_exporter": "python",
   "pygments_lexer": "ipython3",
   "version": "3.8.3"
  }
 },
 "nbformat": 4,
 "nbformat_minor": 1
}
