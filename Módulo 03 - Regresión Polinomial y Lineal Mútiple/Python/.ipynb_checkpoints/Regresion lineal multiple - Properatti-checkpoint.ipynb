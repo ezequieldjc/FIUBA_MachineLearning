{
 "cells": [
  {
   "cell_type": "markdown",
   "metadata": {
    "colab_type": "text",
    "id": "4g6yeKG10m92"
   },
   "source": [
    "# Importar Dataset"
   ]
  },
  {
   "cell_type": "code",
   "execution_count": null,
   "metadata": {
    "colab": {},
    "colab_type": "code",
    "executionInfo": {
     "elapsed": 834,
     "status": "ok",
     "timestamp": 1600041645935,
     "user": {
      "displayName": "Federico Cardoso",
      "photoUrl": "",
      "userId": "07880001849925101622"
     },
     "user_tz": 180
    },
    "id": "T_hShpRU0z41"
   },
   "outputs": [],
   "source": [
    "import numpy as np\n",
    "import pandas as pd"
   ]
  },
  {
   "cell_type": "code",
   "execution_count": null,
   "metadata": {
    "colab": {},
    "colab_type": "code",
    "executionInfo": {
     "elapsed": 1067,
     "status": "ok",
     "timestamp": 1600041679715,
     "user": {
      "displayName": "Federico Cardoso",
      "photoUrl": "",
      "userId": "07880001849925101622"
     },
     "user_tz": 180
    },
    "id": "O1kkj6NGoAgc"
   },
   "outputs": [],
   "source": [
    "df = pd.read_csv('/content/drive/My Drive/4- Data Science/Clases UBA/Datasets/Aptos_BsAs_Todos.csv')"
   ]
  },
  {
   "cell_type": "code",
   "execution_count": null,
   "metadata": {
    "colab": {
     "base_uri": "https://localhost:8080/",
     "height": 204
    },
    "colab_type": "code",
    "executionInfo": {
     "elapsed": 817,
     "status": "ok",
     "timestamp": 1600041684015,
     "user": {
      "displayName": "Federico Cardoso",
      "photoUrl": "",
      "userId": "07880001849925101622"
     },
     "user_tz": 180
    },
    "id": "ETGssJovtlA0",
    "outputId": "13e49986-ac00-4874-b4c9-5729c0f722e3"
   },
   "outputs": [],
   "source": [
    "df.head()"
   ]
  },
  {
   "cell_type": "code",
   "execution_count": null,
   "metadata": {
    "colab": {
     "base_uri": "https://localhost:8080/",
     "height": 419
    },
    "colab_type": "code",
    "executionInfo": {
     "elapsed": 840,
     "status": "ok",
     "timestamp": 1600041686633,
     "user": {
      "displayName": "Federico Cardoso",
      "photoUrl": "",
      "userId": "07880001849925101622"
     },
     "user_tz": 180
    },
    "id": "0Laymk0L5gnw",
    "outputId": "ee64a8e3-03a3-4d9c-b461-bae6d87b00a5"
   },
   "outputs": [],
   "source": [
    "palermo = df[df['Barrio'] == 'Palermo'][['cant_hab', 'cant_bath', 'superficie', 'precio']]\n",
    "palermo"
   ]
  },
  {
   "cell_type": "markdown",
   "metadata": {
    "colab_type": "text",
    "id": "QX9i4jpn3RAG"
   },
   "source": [
    "# Armado de modelos"
   ]
  },
  {
   "cell_type": "markdown",
   "metadata": {
    "colab_type": "text",
    "id": "DTlr3J753Ygu"
   },
   "source": [
    "Como para este dataset ya hicimos la inspeccion visual en el anterior ejemplo, vamos directamente a utilizar la libreria de Statsmodel para verificar relaciones entre mas de una variable."
   ]
  },
  {
   "cell_type": "code",
   "execution_count": null,
   "metadata": {
    "colab": {
     "base_uri": "https://localhost:8080/",
     "height": 71
    },
    "colab_type": "code",
    "executionInfo": {
     "elapsed": 1784,
     "status": "ok",
     "timestamp": 1600041690528,
     "user": {
      "displayName": "Federico Cardoso",
      "photoUrl": "",
      "userId": "07880001849925101622"
     },
     "user_tz": 180
    },
    "id": "Lw-4r3wH3QhZ",
    "outputId": "5edd1aad-c8c7-4cd5-f3db-f394c429bfd6"
   },
   "outputs": [],
   "source": [
    "import statsmodels.api as sm\n",
    "import statsmodels.formula.api as smf"
   ]
  },
  {
   "cell_type": "code",
   "execution_count": null,
   "metadata": {
    "colab": {
     "base_uri": "https://localhost:8080/",
     "height": 459
    },
    "colab_type": "code",
    "executionInfo": {
     "elapsed": 894,
     "status": "ok",
     "timestamp": 1600041700930,
     "user": {
      "displayName": "Federico Cardoso",
      "photoUrl": "",
      "userId": "07880001849925101622"
     },
     "user_tz": 180
    },
    "id": "a4KEWYY21Bed",
    "outputId": "5ed6734b-6fb2-428f-b71f-7208cc7238d0"
   },
   "outputs": [],
   "source": [
    "# Ajustamos el modelo con una sóla lína de código agregandole la edad, mediante la función \"ols\" del paquete \"statmodels\"\n",
    "model = smf.ols(\"precio ~ superficie + cant_hab\", data=palermo).fit()\n",
    "print(model.summary())"
   ]
  },
  {
   "cell_type": "code",
   "execution_count": null,
   "metadata": {
    "colab": {
     "base_uri": "https://localhost:8080/",
     "height": 34
    },
    "colab_type": "code",
    "executionInfo": {
     "elapsed": 931,
     "status": "ok",
     "timestamp": 1600041703063,
     "user": {
      "displayName": "Federico Cardoso",
      "photoUrl": "",
      "userId": "07880001849925101622"
     },
     "user_tz": 180
    },
    "id": "zEZCjE3N6ryT",
    "outputId": "5e89f65d-ceae-47f1-8860-c5d6ade2c5fd"
   },
   "outputs": [],
   "source": [
    "# como no tenemos un metodo para poder llamar a todas las columnas dentro de la formula, necesitamos creal el string con todos los valores sumados, una forma de hacerlo es la siguiente.\n",
    "\n",
    "# primero creamos una lista con las columnas, ya que para mas adelante nos va a servir esta metodologia para programar\n",
    "columnas = [*palermo.columns] # al poner a palermo.columns generamos el index del DataFrame, y con los corchetes y el *, hacemos lo que se llama \"unpack\", en otras palabras lo transformamos en una lista.\n",
    "\n",
    "# verifiquemos nuestra nueva lista\n",
    "columnas"
   ]
  },
  {
   "cell_type": "code",
   "execution_count": null,
   "metadata": {
    "colab": {
     "base_uri": "https://localhost:8080/",
     "height": 35
    },
    "colab_type": "code",
    "executionInfo": {
     "elapsed": 892,
     "status": "ok",
     "timestamp": 1600041705626,
     "user": {
      "displayName": "Federico Cardoso",
      "photoUrl": "",
      "userId": "07880001849925101622"
     },
     "user_tz": 180
    },
    "id": "skMkmLpIIizr",
    "outputId": "1e8edfd0-0afb-45b5-9c03-36b457b8597e"
   },
   "outputs": [],
   "source": [
    "# debemos remover precio ya que es el valor a estimar, para esto utilizaremos una funcion segura para remover un elemento de la lista y a su vez lo imprime para saber cual es\n",
    "columnas.pop(-1)"
   ]
  },
  {
   "cell_type": "code",
   "execution_count": null,
   "metadata": {
    "colab": {
     "base_uri": "https://localhost:8080/",
     "height": 34
    },
    "colab_type": "code",
    "executionInfo": {
     "elapsed": 777,
     "status": "ok",
     "timestamp": 1600041706954,
     "user": {
      "displayName": "Federico Cardoso",
      "photoUrl": "",
      "userId": "07880001849925101622"
     },
     "user_tz": 180
    },
    "id": "y80jcHQEJH-z",
    "outputId": "c55cc1ac-2c87-4e63-bf6c-a259ec30a6eb"
   },
   "outputs": [],
   "source": [
    "# verifiquemos que el elemento haya sido removido\n",
    "columnas"
   ]
  },
  {
   "cell_type": "code",
   "execution_count": null,
   "metadata": {
    "colab": {
     "base_uri": "https://localhost:8080/",
     "height": 35
    },
    "colab_type": "code",
    "executionInfo": {
     "elapsed": 751,
     "status": "ok",
     "timestamp": 1600041708281,
     "user": {
      "displayName": "Federico Cardoso",
      "photoUrl": "",
      "userId": "07880001849925101622"
     },
     "user_tz": 180
    },
    "id": "-7Y6tLonIbaa",
    "outputId": "828b5bc8-989c-4f66-ae65-98dc6d34b208"
   },
   "outputs": [],
   "source": [
    "# EXCELENTE! ahora tenemos todo para empezar, al momento de manejar strings en python tenemos muchas alternativas, para este caso como \n",
    "# solo queremos probar una regresion lineal multiple con todas las variables sumadas, utilizaremos el metodo .join()\n",
    "\n",
    "all_columns = \"+\".join(columnas)\n",
    "formula = 'precio ~ ' + all_columns\n",
    "formula"
   ]
  },
  {
   "cell_type": "code",
   "execution_count": null,
   "metadata": {
    "colab": {
     "base_uri": "https://localhost:8080/",
     "height": 476
    },
    "colab_type": "code",
    "executionInfo": {
     "elapsed": 679,
     "status": "ok",
     "timestamp": 1600041709719,
     "user": {
      "displayName": "Federico Cardoso",
      "photoUrl": "",
      "userId": "07880001849925101622"
     },
     "user_tz": 180
    },
    "id": "pxpmFEvX32zH",
    "outputId": "6b472d49-1241-418b-f04c-a8430736835b"
   },
   "outputs": [],
   "source": [
    "# Ajustamos el modelo con una sóla lína de código con todas las variables, utilizando el punto para referenciar a todas las variables.\n",
    "model = smf.ols(formula, data=palermo).fit()\n",
    "print(model.summary())"
   ]
  },
  {
   "cell_type": "markdown",
   "metadata": {
    "colab_type": "text",
    "id": "aMkqITIp889p"
   },
   "source": [
    "Como vimos en la clase pasada, tambien es posible realizar consultas particulares al modelo para obtener los resultados de R2, R2 ajustado, etc."
   ]
  },
  {
   "cell_type": "code",
   "execution_count": null,
   "metadata": {
    "colab": {
     "base_uri": "https://localhost:8080/",
     "height": 34
    },
    "colab_type": "code",
    "executionInfo": {
     "elapsed": 794,
     "status": "ok",
     "timestamp": 1600041721139,
     "user": {
      "displayName": "Federico Cardoso",
      "photoUrl": "",
      "userId": "07880001849925101622"
     },
     "user_tz": 180
    },
    "id": "8YG04kCq74tj",
    "outputId": "1f418f57-6a00-4248-eb0b-54ad731576d9"
   },
   "outputs": [],
   "source": [
    "modelo1_r2_aj = model.rsquared_adj\n",
    "modelo1_r2_aj"
   ]
  },
  {
   "cell_type": "markdown",
   "metadata": {
    "colab_type": "text",
    "id": "LsQtB0OGAsLS"
   },
   "source": [
    "Como ya tenemos guardada la formula utilizada en este caso y el valor de R2_ajustado obtenido, iniciaremos un diccionario para almacenar los datos que luego convertiremos en DataFrame para analizarlo."
   ]
  },
  {
   "cell_type": "code",
   "execution_count": null,
   "metadata": {
    "colab": {
     "base_uri": "https://localhost:8080/",
     "height": 51
    },
    "colab_type": "code",
    "executionInfo": {
     "elapsed": 921,
     "status": "ok",
     "timestamp": 1600041723748,
     "user": {
      "displayName": "Federico Cardoso",
      "photoUrl": "",
      "userId": "07880001849925101622"
     },
     "user_tz": 180
    },
    "id": "jY5dv6SqAICJ",
    "outputId": "33ec1285-e16e-4959-b814-6e914b7ddd41"
   },
   "outputs": [],
   "source": [
    "modelos = {'Formula': [formula], 'R2_ajustado': [modelo1_r2_aj]} # IMPORTANTE: estamos generando una lista dentr de cada campo clave del diccionario, asi de esta manera podremos agregar valores de nuevos modelos\n",
    "modelos"
   ]
  },
  {
   "cell_type": "code",
   "execution_count": null,
   "metadata": {
    "colab": {},
    "colab_type": "code",
    "executionInfo": {
     "elapsed": 419,
     "status": "ok",
     "timestamp": 1600041724888,
     "user": {
      "displayName": "Federico Cardoso",
      "photoUrl": "",
      "userId": "07880001849925101622"
     },
     "user_tz": 180
    },
    "id": "zmAC8fD0AeSj"
   },
   "outputs": [],
   "source": [
    "# que pasa si queremos probar la regresion multiple pero sin un campo\n",
    "columnas.remove('cant_bath') # o bien podriamos haber utilizado el metodo .pop() con el index del lugar donde se encuentra el campo que queremos eliminar."
   ]
  },
  {
   "cell_type": "code",
   "execution_count": null,
   "metadata": {
    "colab": {
     "base_uri": "https://localhost:8080/",
     "height": 35
    },
    "colab_type": "code",
    "executionInfo": {
     "elapsed": 725,
     "status": "ok",
     "timestamp": 1600041725329,
     "user": {
      "displayName": "Federico Cardoso",
      "photoUrl": "",
      "userId": "07880001849925101622"
     },
     "user_tz": 180
    },
    "id": "iwoV_4xRF6y2",
    "outputId": "babc88b5-6c77-4e63-a949-977a4a035d01"
   },
   "outputs": [],
   "source": [
    "# volvemos a generar el string para poder tener los datos que queremos en la formula\n",
    "all_columns = \"+\".join(columnas)\n",
    "formula = 'precio ~ ' + all_columns\n",
    "formula"
   ]
  },
  {
   "cell_type": "code",
   "execution_count": null,
   "metadata": {
    "colab": {
     "base_uri": "https://localhost:8080/",
     "height": 459
    },
    "colab_type": "code",
    "executionInfo": {
     "elapsed": 537,
     "status": "ok",
     "timestamp": 1600041725330,
     "user": {
      "displayName": "Federico Cardoso",
      "photoUrl": "",
      "userId": "07880001849925101622"
     },
     "user_tz": 180
    },
    "id": "3cO9OCJYX679",
    "outputId": "14c66255-825d-421c-87ab-ec1aa4d0ffe8"
   },
   "outputs": [],
   "source": [
    "# creamos el nuevo modelo y verificamos que han cambiado los valores, ya la variable ZN no la tenemos en nuestro modelo\n",
    "model = smf.ols(formula, data=palermo).fit()\n",
    "print(model.summary())"
   ]
  },
  {
   "cell_type": "code",
   "execution_count": null,
   "metadata": {
    "colab": {},
    "colab_type": "code",
    "executionInfo": {
     "elapsed": 684,
     "status": "ok",
     "timestamp": 1600041725635,
     "user": {
      "displayName": "Federico Cardoso",
      "photoUrl": "",
      "userId": "07880001849925101622"
     },
     "user_tz": 180
    },
    "id": "VEcHmsjAYZfw"
   },
   "outputs": [],
   "source": [
    "# ahora veamos como agregar estos campos al diccionario ya creado.\n",
    "\n",
    "modelos['Formula'].append(formula)\n",
    "modelos['R2_ajustado'].append(model.rsquared_adj)"
   ]
  },
  {
   "cell_type": "markdown",
   "metadata": {
    "colab_type": "text",
    "id": "QarD-f5VeY69"
   },
   "source": [
    "# Interaccion entre terminos"
   ]
  },
  {
   "cell_type": "code",
   "execution_count": null,
   "metadata": {
    "colab": {
     "base_uri": "https://localhost:8080/",
     "height": 510
    },
    "colab_type": "code",
    "executionInfo": {
     "elapsed": 740,
     "status": "ok",
     "timestamp": 1600041726018,
     "user": {
      "displayName": "Federico Cardoso",
      "photoUrl": "",
      "userId": "07880001849925101622"
     },
     "user_tz": 180
    },
    "id": "V2x_Q8TXcCkV",
    "outputId": "b49fa5a6-9795-4b2d-e73a-51a3f58ea493"
   },
   "outputs": [],
   "source": [
    "# es facil cambiar el modelo que se quiere utilizar otra formula, simplemente la expresas luego del ~, veamos un ejemplo\n",
    "# supongamos que queremos armar un modelo que tenga en cuenta la multiplicacion entre superficie y cant_hab.\n",
    "formula = 'precio ~ superficie * cant_hab'\n",
    "model = smf.ols(formula, data=palermo).fit()\n",
    "print(model.summary())"
   ]
  },
  {
   "cell_type": "code",
   "execution_count": null,
   "metadata": {
    "colab": {
     "base_uri": "https://localhost:8080/",
     "height": 85
    },
    "colab_type": "code",
    "executionInfo": {
     "elapsed": 597,
     "status": "ok",
     "timestamp": 1600041726019,
     "user": {
      "displayName": "Federico Cardoso",
      "photoUrl": "",
      "userId": "07880001849925101622"
     },
     "user_tz": 180
    },
    "id": "wVxbg-epfOfY",
    "outputId": "781f24c6-cbb1-4d1a-957d-44e0a7899b11"
   },
   "outputs": [],
   "source": [
    "# agreguemos de nuevo los campos al diccionario.\n",
    "\n",
    "modelos['Formula'].append(formula)\n",
    "modelos['R2_ajustado'].append(model.rsquared_adj)\n",
    "modelos"
   ]
  },
  {
   "cell_type": "markdown",
   "metadata": {
    "colab_type": "text",
    "id": "4fzzNB4qgpJ8"
   },
   "source": [
    "# Transformaciones no lineales a los predictores"
   ]
  },
  {
   "cell_type": "code",
   "execution_count": null,
   "metadata": {
    "colab": {
     "base_uri": "https://localhost:8080/",
     "height": 493
    },
    "colab_type": "code",
    "executionInfo": {
     "elapsed": 804,
     "status": "ok",
     "timestamp": 1600041726775,
     "user": {
      "displayName": "Federico Cardoso",
      "photoUrl": "",
      "userId": "07880001849925101622"
     },
     "user_tz": 180
    },
    "id": "5Vw_izkafjQz",
    "outputId": "2c5c1305-7b1b-4635-e1a1-aa354a606142"
   },
   "outputs": [],
   "source": [
    "# ahora vamos a probar incluir en la formula un predictor elevado a otro orden, es decir, dado un predictor X, podemos crear un predictor X^2\n",
    "# para hacer esto, es necesario que agreguemos el termino que querramos elevar dentro de: I(...), veamoslo mejor en el ejemplo\n",
    "\n",
    "formula = 'precio ~ superficie + I(superficie**2)'\n",
    "model = smf.ols(formula, data = palermo).fit()\n",
    "print(model.summary())"
   ]
  },
  {
   "cell_type": "code",
   "execution_count": null,
   "metadata": {
    "colab": {
     "base_uri": "https://localhost:8080/",
     "height": 153
    },
    "colab_type": "code",
    "executionInfo": {
     "elapsed": 662,
     "status": "ok",
     "timestamp": 1600041726776,
     "user": {
      "displayName": "Federico Cardoso",
      "photoUrl": "",
      "userId": "07880001849925101622"
     },
     "user_tz": 180
    },
    "id": "GQou5FfYpb0b",
    "outputId": "7ec18ec9-d090-4892-a2ab-0a419d2c3bdf"
   },
   "outputs": [],
   "source": [
    "# nuevamente lo agregamos al diccionario\n",
    "modelos['Formula'].append(formula)\n",
    "modelos['R2_ajustado'].append(model.rsquared_adj)\n",
    "modelos"
   ]
  },
  {
   "cell_type": "markdown",
   "metadata": {
    "colab_type": "text",
    "id": "R2JIpd5gryEc"
   },
   "source": [
    "# Graficamos"
   ]
  },
  {
   "cell_type": "code",
   "execution_count": null,
   "metadata": {
    "colab": {},
    "colab_type": "code",
    "executionInfo": {
     "elapsed": 1226,
     "status": "ok",
     "timestamp": 1600041727597,
     "user": {
      "displayName": "Federico Cardoso",
      "photoUrl": "",
      "userId": "07880001849925101622"
     },
     "user_tz": 180
    },
    "id": "ZPkg5AZbptW1"
   },
   "outputs": [],
   "source": [
    "# vamos a graficar el ultimo modelo, por esto necesitamos importar las librerias requeridas para graficar y a su vez, obtener los valores de las pendientes y ordenada del modelo\n",
    "\n",
    "import matplotlib.pyplot as plt\n",
    "import seaborn as sns"
   ]
  },
  {
   "cell_type": "code",
   "execution_count": null,
   "metadata": {
    "colab": {},
    "colab_type": "code",
    "executionInfo": {
     "elapsed": 1087,
     "status": "ok",
     "timestamp": 1600041727601,
     "user": {
      "displayName": "Federico Cardoso",
      "photoUrl": "",
      "userId": "07880001849925101622"
     },
     "user_tz": 180
    },
    "id": "Eq67RiLNsUpA"
   },
   "outputs": [],
   "source": [
    "# descomponemos el modelo\n",
    "\n",
    "b = model.params[0]\n",
    "m = model.params[1]\n",
    "k = model.params[2]"
   ]
  },
  {
   "cell_type": "code",
   "execution_count": null,
   "metadata": {
    "colab": {
     "base_uri": "https://localhost:8080/",
     "height": 638
    },
    "colab_type": "code",
    "executionInfo": {
     "elapsed": 2113,
     "status": "ok",
     "timestamp": 1600041728781,
     "user": {
      "displayName": "Federico Cardoso",
      "photoUrl": "",
      "userId": "07880001849925101622"
     },
     "user_tz": 180
    },
    "id": "mUFRU8Acr6px",
    "outputId": "4b306a61-ac6e-4eb1-92db-693ad2510510"
   },
   "outputs": [],
   "source": [
    "x_recta = np.linspace(0, 400, 100)\n",
    "\n",
    "#la nueva recta ahora posee un nuevo componente a diferencia del anterior\n",
    "y_recta = m * x_recta + k * (x_recta ** 2)+ b\n",
    "\n",
    "sns.set_style('whitegrid')\n",
    "\n",
    "fig, ax = plt.subplots(figsize = (15,10))\n",
    "ax.plot(x_recta, y_recta, c = 'b')\n",
    "sns.scatterplot(x = 'superficie',\n",
    "                y = 'precio',\n",
    "                data = palermo,\n",
    "                ax = ax\n",
    "                )\n",
    "ax.set_title('Regresion cuadratica')"
   ]
  },
  {
   "cell_type": "markdown",
   "metadata": {
    "colab_type": "text",
    "id": "14ZQkaE-tq2N"
   },
   "source": [
    "# Probemos mas grados"
   ]
  },
  {
   "cell_type": "code",
   "execution_count": null,
   "metadata": {
    "colab": {
     "base_uri": "https://localhost:8080/",
     "height": 510
    },
    "colab_type": "code",
    "executionInfo": {
     "elapsed": 1812,
     "status": "ok",
     "timestamp": 1600041728782,
     "user": {
      "displayName": "Federico Cardoso",
      "photoUrl": "",
      "userId": "07880001849925101622"
     },
     "user_tz": 180
    },
    "id": "iRcm8AFxtp5f",
    "outputId": "a7dc2597-9f07-435b-ebf1-48ac446c3799"
   },
   "outputs": [],
   "source": [
    "# ahora vamos a probar incluir en la formula un predictor elevado a otro orden, es decir, dado un predictor X, podemos crear un predictor X^2\n",
    "# para hacer esto, es necesario que agreguemos el termino que querramos elevar dentro de: I(...), veamoslo mejor en el ejemplo\n",
    "\n",
    "formula = 'precio ~ superficie + I(superficie**2) + I(superficie**3)'\n",
    "model = smf.ols(formula, data = palermo).fit()\n",
    "print(model.summary())"
   ]
  },
  {
   "cell_type": "code",
   "execution_count": null,
   "metadata": {
    "colab": {
     "base_uri": "https://localhost:8080/",
     "height": 187
    },
    "colab_type": "code",
    "executionInfo": {
     "elapsed": 1674,
     "status": "ok",
     "timestamp": 1600041728792,
     "user": {
      "displayName": "Federico Cardoso",
      "photoUrl": "",
      "userId": "07880001849925101622"
     },
     "user_tz": 180
    },
    "id": "HaaEbGIyZqY-",
    "outputId": "8b3fa940-d157-47ec-b290-5633adefbd8d"
   },
   "outputs": [],
   "source": [
    "# nuevamente lo agregamos al diccionario\n",
    "modelos['Formula'].append(formula)\n",
    "modelos['R2_ajustado'].append(model.rsquared_adj)\n",
    "modelos"
   ]
  },
  {
   "cell_type": "code",
   "execution_count": null,
   "metadata": {
    "colab": {
     "base_uri": "https://localhost:8080/",
     "height": 85
    },
    "colab_type": "code",
    "executionInfo": {
     "elapsed": 1467,
     "status": "ok",
     "timestamp": 1600041728793,
     "user": {
      "displayName": "Federico Cardoso",
      "photoUrl": "",
      "userId": "07880001849925101622"
     },
     "user_tz": 180
    },
    "id": "nTSj749JHTIs",
    "outputId": "3c2d3ac1-76f6-4045-bdc5-f6799c9fc29b"
   },
   "outputs": [],
   "source": [
    "# IMPORTANTE: en el caso que ya tengamos mas de un coeficiente y querramos ver la prediccion a traves de un DataFrame, existe la posibilidad de \n",
    "# utilizar el metodo predict sobre el modelo construido pero es importante que se le asigne un formato de DataFrame acorde al modelo inicial\n",
    "# haremos un simple ejemplo con 3 datos para ver las predicciones y luego predeciremos el boston completo\n",
    "\n",
    "prueba = {'superficie':[5, 15, 25]}\n",
    "prueba = pd.DataFrame(prueba)\n",
    "\n",
    "model.predict(prueba)"
   ]
  },
  {
   "cell_type": "code",
   "execution_count": null,
   "metadata": {
    "colab": {
     "base_uri": "https://localhost:8080/",
     "height": 592
    },
    "colab_type": "code",
    "executionInfo": {
     "elapsed": 2073,
     "status": "ok",
     "timestamp": 1600041729503,
     "user": {
      "displayName": "Federico Cardoso",
      "photoUrl": "",
      "userId": "07880001849925101622"
     },
     "user_tz": 180
    },
    "id": "skm_CchkdB5D",
    "outputId": "32e1fd2a-c3ae-41e7-cd76-819d94a5c0eb"
   },
   "outputs": [],
   "source": [
    "#cargamos las predicciones en la variable preciopred y luego la utilizamos para plotear\n",
    "preciopred = model.predict(palermo)\n",
    "\n",
    "fig, ax = plt.subplots(1, figsize = (15,10))\n",
    "\n",
    "ax.scatter(palermo['superficie'], palermo['precio'], c = 'r')\n",
    "ax.scatter(palermo['superficie'], preciopred, c = 'b')\n",
    "\n",
    "plt.show()"
   ]
  },
  {
   "cell_type": "code",
   "execution_count": null,
   "metadata": {
    "colab": {
     "base_uri": "https://localhost:8080/",
     "height": 629
    },
    "colab_type": "code",
    "executionInfo": {
     "elapsed": 1953,
     "status": "ok",
     "timestamp": 1600041729506,
     "user": {
      "displayName": "Federico Cardoso",
      "photoUrl": "",
      "userId": "07880001849925101622"
     },
     "user_tz": 180
    },
    "id": "ZbuOuCYFdalw",
    "outputId": "a8000bb0-afc8-4d61-ff44-2a40009c0430"
   },
   "outputs": [],
   "source": [
    "# ahora hagamos una prediccion de un orden superior\n",
    "\n",
    "formula = 'precio ~ superficie + I(superficie**2) + I(superficie**3) + I(superficie**4) + I(superficie**5) + I(superficie**6) + I(superficie**7) + I(superficie**8) + I(superficie**9) + I(superficie**10)'\n",
    "model = smf.ols(formula, data = palermo).fit()\n",
    "print(model.summary())"
   ]
  },
  {
   "cell_type": "code",
   "execution_count": null,
   "metadata": {
    "colab": {
     "base_uri": "https://localhost:8080/",
     "height": 241
    },
    "colab_type": "code",
    "executionInfo": {
     "elapsed": 1960,
     "status": "ok",
     "timestamp": 1600041730042,
     "user": {
      "displayName": "Federico Cardoso",
      "photoUrl": "",
      "userId": "07880001849925101622"
     },
     "user_tz": 180
    },
    "id": "5URLC1K4eVC_",
    "outputId": "4af9ed1e-581c-43d8-c461-c70f6d34104e"
   },
   "outputs": [],
   "source": [
    "# nuevamente lo agregamos al diccionario\n",
    "modelos['Formula'].append(formula)\n",
    "modelos['R2_ajustado'].append(model.rsquared_adj)\n",
    "modelos"
   ]
  },
  {
   "cell_type": "code",
   "execution_count": null,
   "metadata": {
    "colab": {
     "base_uri": "https://localhost:8080/",
     "height": 602
    },
    "colab_type": "code",
    "executionInfo": {
     "elapsed": 1928,
     "status": "ok",
     "timestamp": 1600041730044,
     "user": {
      "displayName": "Federico Cardoso",
      "photoUrl": "",
      "userId": "07880001849925101622"
     },
     "user_tz": 180
    },
    "id": "adncRclnUCvN",
    "outputId": "933eb260-3257-4738-e3aa-a31d20910266"
   },
   "outputs": [],
   "source": [
    "#cargamos las predicciones en la variable preciopred y luego la utilizamos para plotear\n",
    "preciopred = model.predict(palermo)\n",
    "\n",
    "fig, ax = plt.subplots(1, figsize = (15,10))\n",
    "\n",
    "ax.scatter(palermo['superficie'], palermo['precio'], c = 'r')\n",
    "ax.scatter(palermo['superficie'], preciopred, c = 'b')\n",
    "\n",
    "plt.show()"
   ]
  },
  {
   "cell_type": "markdown",
   "metadata": {
    "colab_type": "text",
    "id": "H0GWUJKjV3tt"
   },
   "source": [
    "# Regresion polinomial multiple"
   ]
  },
  {
   "cell_type": "code",
   "execution_count": null,
   "metadata": {
    "colab": {
     "base_uri": "https://localhost:8080/",
     "height": 544
    },
    "colab_type": "code",
    "executionInfo": {
     "elapsed": 1867,
     "status": "ok",
     "timestamp": 1600041730045,
     "user": {
      "displayName": "Federico Cardoso",
      "photoUrl": "",
      "userId": "07880001849925101622"
     },
     "user_tz": 180
    },
    "id": "YxHo2IVZV3Oh",
    "outputId": "65a6a926-71e3-41c0-dda2-c6527902647c"
   },
   "outputs": [],
   "source": [
    "# lo bueno de este metodo es que no importa el tipo de transformacion que querramos hacer, siempre la notacion es la misma.\n",
    "\n",
    "formula = 'precio ~ superficie + I(superficie**2) + cant_hab + I(cant_hab**2) + I(cant_hab**3)'\n",
    "\n",
    "model = smf.ols(formula, data = palermo).fit()\n",
    "\n",
    "print(model.summary())"
   ]
  },
  {
   "cell_type": "code",
   "execution_count": null,
   "metadata": {
    "colab": {
     "base_uri": "https://localhost:8080/",
     "height": 275
    },
    "colab_type": "code",
    "executionInfo": {
     "elapsed": 1831,
     "status": "ok",
     "timestamp": 1600041730046,
     "user": {
      "displayName": "Federico Cardoso",
      "photoUrl": "",
      "userId": "07880001849925101622"
     },
     "user_tz": 180
    },
    "id": "VKnE-SuuZs9O",
    "outputId": "574a7f51-7b9e-4271-aacd-766d4bc53298"
   },
   "outputs": [],
   "source": [
    "# nuevamente lo agregamos al diccionario\n",
    "modelos['Formula'].append(formula)\n",
    "modelos['R2_ajustado'].append(model.rsquared_adj)\n",
    "modelos"
   ]
  },
  {
   "cell_type": "markdown",
   "metadata": {
    "colab_type": "text",
    "id": "VxqRWRufXsTY"
   },
   "source": [
    "# Regresion logaritmica"
   ]
  },
  {
   "cell_type": "code",
   "execution_count": null,
   "metadata": {
    "colab": {
     "base_uri": "https://localhost:8080/",
     "height": 442
    },
    "colab_type": "code",
    "executionInfo": {
     "elapsed": 1766,
     "status": "ok",
     "timestamp": 1600041730047,
     "user": {
      "displayName": "Federico Cardoso",
      "photoUrl": "",
      "userId": "07880001849925101622"
     },
     "user_tz": 180
    },
    "id": "qAUhoBOoXruS",
    "outputId": "ac66808e-fc62-4f8f-8c99-6c347622d7c1"
   },
   "outputs": [],
   "source": [
    "# por supuesto, no estamos de ninguna manera restringidos al uso de transformaciones de los predictores\n",
    "# Ahora vamos a intentar una transformacion logaritmica\n",
    "\n",
    "formula = 'precio ~ np.log(superficie)'\n",
    "\n",
    "model = smf.ols(formula, data = palermo).fit()\n",
    "\n",
    "print(model.summary())"
   ]
  },
  {
   "cell_type": "code",
   "execution_count": null,
   "metadata": {
    "colab": {
     "base_uri": "https://localhost:8080/",
     "height": 309
    },
    "colab_type": "code",
    "executionInfo": {
     "elapsed": 1730,
     "status": "ok",
     "timestamp": 1600041730048,
     "user": {
      "displayName": "Federico Cardoso",
      "photoUrl": "",
      "userId": "07880001849925101622"
     },
     "user_tz": 180
    },
    "id": "LQdmI7rwZutv",
    "outputId": "7e2515f6-419b-4671-9d75-2890d23e7b07"
   },
   "outputs": [],
   "source": [
    "# nuevamente lo agregamos al diccionario\n",
    "modelos['Formula'].append(formula)\n",
    "modelos['R2_ajustado'].append(model.rsquared_adj)\n",
    "modelos"
   ]
  },
  {
   "cell_type": "code",
   "execution_count": null,
   "metadata": {
    "colab": {
     "base_uri": "https://localhost:8080/",
     "height": 527
    },
    "colab_type": "code",
    "executionInfo": {
     "elapsed": 1694,
     "status": "ok",
     "timestamp": 1600041730049,
     "user": {
      "displayName": "Federico Cardoso",
      "photoUrl": "",
      "userId": "07880001849925101622"
     },
     "user_tz": 180
    },
    "id": "Sk_52ObHZ7ko",
    "outputId": "6024ef17-9022-429a-bafe-6ef90ffa0b46"
   },
   "outputs": [],
   "source": [
    "# y tambien, porque no aplicar una transformacion sobre la variable objetivo\n",
    "\n",
    "formula = 'np.log(precio) ~ superficie + I(superficie**2) + I(superficie**3) + I(superficie**4)'\n",
    "\n",
    "model = smf.ols(formula, data = palermo).fit()\n",
    "\n",
    "print(model.summary())"
   ]
  },
  {
   "cell_type": "code",
   "execution_count": null,
   "metadata": {
    "colab": {
     "base_uri": "https://localhost:8080/",
     "height": 343
    },
    "colab_type": "code",
    "executionInfo": {
     "elapsed": 1992,
     "status": "ok",
     "timestamp": 1600041730384,
     "user": {
      "displayName": "Federico Cardoso",
      "photoUrl": "",
      "userId": "07880001849925101622"
     },
     "user_tz": 180
    },
    "id": "Ohxq5SO9ckjq",
    "outputId": "84ac4158-b20f-472f-a272-21ff152f9539"
   },
   "outputs": [],
   "source": [
    "# nuevamente lo agregamos al diccionario\n",
    "modelos['Formula'].append(formula)\n",
    "modelos['R2_ajustado'].append(model.rsquared_adj)\n",
    "modelos"
   ]
  },
  {
   "cell_type": "code",
   "execution_count": null,
   "metadata": {
    "colab": {
     "base_uri": "https://localhost:8080/",
     "height": 328
    },
    "colab_type": "code",
    "executionInfo": {
     "elapsed": 1957,
     "status": "ok",
     "timestamp": 1600041730386,
     "user": {
      "displayName": "Federico Cardoso",
      "photoUrl": "",
      "userId": "07880001849925101622"
     },
     "user_tz": 180
    },
    "id": "iV7ylpMscmHR",
    "outputId": "6f0f9807-267d-4053-e03c-2a3818750a83"
   },
   "outputs": [],
   "source": [
    "# Para mejorar la visualizacion de los datos recolectados en el diccionario, transformaremos el mismo en un DataFrame\n",
    "\n",
    "modelos = pd.DataFrame(modelos)\n",
    "modelos"
   ]
  },
  {
   "cell_type": "markdown",
   "metadata": {
    "colab_type": "text",
    "id": "WeaVRbUZbsk3"
   },
   "source": [
    "# ACTIVIDADES:\n",
    "\n",
    "## - Plotear todos los modelos, de ayuda vamos a citar el codigo que nos servira para el ejercicio.\n",
    "        preciopred = model.predict(palermo)\n",
    "\n",
    "        fig, ax = plt.subplots(1, figsize = (15,10))\n",
    "        ax.scatter(palermo['superficie'], preciopred, c = 'b')\n",
    "        ax.scatter(palermo['superficie'], palermo['precio'], c = 'r')\n",
    "        plt.show()\n",
    "\n",
    "## - Realizar un script que permita hacer un stepwise o stepfoward para encontrar el modelo con el mayor R2 ajustado."
   ]
  }
 ],
 "metadata": {
  "colab": {
   "collapsed_sections": [],
   "name": "Regresion lineal multiple - Properatti.ipynb",
   "provenance": []
  },
  "kernelspec": {
   "display_name": "Python 3",
   "language": "python",
   "name": "python3"
  },
  "language_info": {
   "codemirror_mode": {
    "name": "ipython",
    "version": 3
   },
   "file_extension": ".py",
   "mimetype": "text/x-python",
   "name": "python",
   "nbconvert_exporter": "python",
   "pygments_lexer": "ipython3",
   "version": "3.8.3"
  }
 },
 "nbformat": 4,
 "nbformat_minor": 1
}
