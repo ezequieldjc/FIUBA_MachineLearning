{
 "cells": [
  {
   "cell_type": "code",
   "execution_count": null,
   "metadata": {
    "colab": {
     "base_uri": "https://localhost:8080/",
     "height": 50
    },
    "colab_type": "code",
    "executionInfo": {
     "elapsed": 2341,
     "status": "ok",
     "timestamp": 1600714654724,
     "user": {
      "displayName": "Federico Cardoso",
      "photoUrl": "",
      "userId": "07880001849925101622"
     },
     "user_tz": 180
    },
    "id": "C6IhDdsSg8E9",
    "outputId": "3517dd10-ff1d-40a6-9fc0-a832ebca59ec"
   },
   "outputs": [],
   "source": [
    "from sklearn.datasets import load_boston\n",
    "import numpy as np\n",
    "import pandas as pd\n",
    "import statsmodels.api as sm\n",
    "import statsmodels.formula.api as smf"
   ]
  },
  {
   "cell_type": "code",
   "execution_count": null,
   "metadata": {
    "colab": {
     "base_uri": "https://localhost:8080/",
     "height": 201
    },
    "colab_type": "code",
    "executionInfo": {
     "elapsed": 2329,
     "status": "ok",
     "timestamp": 1600714654727,
     "user": {
      "displayName": "Federico Cardoso",
      "photoUrl": "",
      "userId": "07880001849925101622"
     },
     "user_tz": 180
    },
    "id": "dpobqZyAh-K1",
    "outputId": "5d273837-14b7-4361-9db5-f0fc65b5ca66"
   },
   "outputs": [],
   "source": [
    "boston = load_boston()\n",
    "boston.keys()\n",
    "\n",
    "a = boston['data']\n",
    "b = boston['target']\n",
    "\n",
    "c = np.column_stack((a,b))\n",
    "\n",
    "columnas = boston['feature_names']\n",
    "columnas = np.append(columnas, 'MEDV')\n",
    "\n",
    "boston_df = pd.DataFrame(c, columns = columnas)\n",
    "boston_df.head()"
   ]
  },
  {
   "cell_type": "markdown",
   "metadata": {
    "colab_type": "text",
    "id": "OeAMmNG3qAbq"
   },
   "source": [
    "# De a dos fuerza bruta"
   ]
  },
  {
   "cell_type": "code",
   "execution_count": null,
   "metadata": {
    "colab": {},
    "colab_type": "code",
    "executionInfo": {
     "elapsed": 2328,
     "status": "ok",
     "timestamp": 1600714654729,
     "user": {
      "displayName": "Federico Cardoso",
      "photoUrl": "",
      "userId": "07880001849925101622"
     },
     "user_tz": 180
    },
    "id": "Z4mL68aWiGf1"
   },
   "outputs": [],
   "source": [
    "campos = boston['feature_names']\n",
    "campo_max = campos[0]\n",
    "max_r2 = 0\n",
    "primera_pasada = True"
   ]
  },
  {
   "cell_type": "code",
   "execution_count": null,
   "metadata": {
    "colab": {
     "base_uri": "https://localhost:8080/",
     "height": 1000
    },
    "colab_type": "code",
    "executionInfo": {
     "elapsed": 4353,
     "status": "ok",
     "timestamp": 1600714656757,
     "user": {
      "displayName": "Federico Cardoso",
      "photoUrl": "",
      "userId": "07880001849925101622"
     },
     "user_tz": 180
    },
    "id": "_85hfqPJqUX1",
    "outputId": "a676f9ba-55ce-460f-82d5-7825b20fbe04"
   },
   "outputs": [],
   "source": [
    "for i in range(len(campos)):\n",
    "  formula_ant = 'MEDV ~'\n",
    "  for j in range(len(campos)):\n",
    "    if (j != i):\n",
    "      formula = formula_ant + campos[i] +' + ' + campos[j]\n",
    "      print(formula)\n",
    "      model = smf.ols(formula, data = boston_df).fit()\n",
    "      r2 = model.rsquared_adj\n",
    "\n",
    "      if (r2 > max_r2):\n",
    "        max_r2 = r2\n",
    "        formula_max = formula\n",
    "        campo_max = c"
   ]
  },
  {
   "cell_type": "code",
   "execution_count": null,
   "metadata": {
    "colab": {
     "base_uri": "https://localhost:8080/",
     "height": 34
    },
    "colab_type": "code",
    "executionInfo": {
     "elapsed": 4347,
     "status": "ok",
     "timestamp": 1600714656758,
     "user": {
      "displayName": "Federico Cardoso",
      "photoUrl": "",
      "userId": "07880001849925101622"
     },
     "user_tz": 180
    },
    "id": "gd6lWc_ArZxI",
    "outputId": "f786f440-4f15-42cb-d4e3-5c40a32ca143"
   },
   "outputs": [],
   "source": [
    "max_r2"
   ]
  },
  {
   "cell_type": "code",
   "execution_count": null,
   "metadata": {
    "colab": {
     "base_uri": "https://localhost:8080/",
     "height": 35
    },
    "colab_type": "code",
    "executionInfo": {
     "elapsed": 4341,
     "status": "ok",
     "timestamp": 1600714656759,
     "user": {
      "displayName": "Federico Cardoso",
      "photoUrl": "",
      "userId": "07880001849925101622"
     },
     "user_tz": 180
    },
    "id": "893IvP81sPge",
    "outputId": "7ae01438-a3ee-49c8-8c83-3c6fd825f549"
   },
   "outputs": [],
   "source": [
    "formula_max"
   ]
  },
  {
   "cell_type": "markdown",
   "metadata": {
    "colab_type": "text",
    "id": "MwPqA58WsX6z"
   },
   "source": [
    "# Original Forword STEPWISE"
   ]
  },
  {
   "cell_type": "code",
   "execution_count": null,
   "metadata": {
    "colab": {},
    "colab_type": "code",
    "executionInfo": {
     "elapsed": 911,
     "status": "ok",
     "timestamp": 1600714844162,
     "user": {
      "displayName": "Federico Cardoso",
      "photoUrl": "",
      "userId": "07880001849925101622"
     },
     "user_tz": 180
    },
    "id": "orwy5Qa-sSR3"
   },
   "outputs": [],
   "source": [
    "campos = boston['feature_names']\n",
    "campo_max = campos[0]\n",
    "max_r2 = 0\n",
    "primera_pasada = True"
   ]
  },
  {
   "cell_type": "code",
   "execution_count": null,
   "metadata": {
    "colab": {},
    "colab_type": "code",
    "executionInfo": {
     "elapsed": 917,
     "status": "ok",
     "timestamp": 1600715179081,
     "user": {
      "displayName": "Federico Cardoso",
      "photoUrl": "",
      "userId": "07880001849925101622"
     },
     "user_tz": 180
    },
    "id": "b7S65DA9CiP3"
   },
   "outputs": [],
   "source": [
    "formula_ant = 'MEDV ~'"
   ]
  },
  {
   "cell_type": "code",
   "execution_count": null,
   "metadata": {
    "colab": {},
    "colab_type": "code",
    "executionInfo": {
     "elapsed": 826,
     "status": "ok",
     "timestamp": 1600715184809,
     "user": {
      "displayName": "Federico Cardoso",
      "photoUrl": "",
      "userId": "07880001849925101622"
     },
     "user_tz": 180
    },
    "id": "LUTkCh_5sy3Y"
   },
   "outputs": [],
   "source": [
    "# vamos a iniciar un diccionario vacio para poder agregar los datos de los diferentes modelos.\n",
    "\n",
    "modelos = {'Modelo': [], 'R2_aj': []}"
   ]
  },
  {
   "cell_type": "code",
   "execution_count": null,
   "metadata": {
    "colab": {},
    "colab_type": "code",
    "executionInfo": {
     "elapsed": 3890,
     "status": "ok",
     "timestamp": 1600715189297,
     "user": {
      "displayName": "Federico Cardoso",
      "photoUrl": "",
      "userId": "07880001849925101622"
     },
     "user_tz": 180
    },
    "id": "NjArp1_ZtWsB"
   },
   "outputs": [],
   "source": [
    "for f in campos:\n",
    "  for c in campos:\n",
    "    if primera_pasada:\n",
    "      formula = formula_ant + f\n",
    "    else:\n",
    "      formula = formula_ant + ' + ' + c\n",
    "    model = smf.ols(formula, data = boston_df).fit()\n",
    "    r2 = model.rsquared_adj\n",
    "    modelos['Modelo'].append(formula)\n",
    "    modelos['R2_aj'].append(r2)\n",
    "\n",
    "    if (r2 > max_r2):\n",
    "      max_r2 = r2\n",
    "      formula_max = formula\n",
    "  campos = campos[campos!=campo_max]\n",
    "  formula_ant = formula_max\n",
    "  primera_pasada = False"
   ]
  },
  {
   "cell_type": "code",
   "execution_count": null,
   "metadata": {
    "colab": {
     "base_uri": "https://localhost:8080/",
     "height": 414
    },
    "colab_type": "code",
    "executionInfo": {
     "elapsed": 865,
     "status": "ok",
     "timestamp": 1600715204859,
     "user": {
      "displayName": "Federico Cardoso",
      "photoUrl": "",
      "userId": "07880001849925101622"
     },
     "user_tz": 180
    },
    "id": "GwpMO9JiujAn",
    "outputId": "b144cef4-3a35-454e-a69b-7ce5b8519266"
   },
   "outputs": [],
   "source": [
    "# pasamos el diccionario a Dataframe para poder visualizarlo mejor\n",
    "pd.DataFrame(modelos)"
   ]
  },
  {
   "cell_type": "code",
   "execution_count": null,
   "metadata": {
    "colab": {
     "base_uri": "https://localhost:8080/",
     "height": 34
    },
    "colab_type": "code",
    "executionInfo": {
     "elapsed": 834,
     "status": "ok",
     "timestamp": 1600715193622,
     "user": {
      "displayName": "Federico Cardoso",
      "photoUrl": "",
      "userId": "07880001849925101622"
     },
     "user_tz": 180
    },
    "id": "5m_3-kXHuk_3",
    "outputId": "d33d32bf-f745-49f0-99ed-e5e00e59fc58"
   },
   "outputs": [],
   "source": [
    "max_r2"
   ]
  },
  {
   "cell_type": "code",
   "execution_count": null,
   "metadata": {
    "colab": {
     "base_uri": "https://localhost:8080/",
     "height": 35
    },
    "colab_type": "code",
    "executionInfo": {
     "elapsed": 609,
     "status": "ok",
     "timestamp": 1600714785177,
     "user": {
      "displayName": "Federico Cardoso",
      "photoUrl": "",
      "userId": "07880001849925101622"
     },
     "user_tz": 180
    },
    "id": "1PROxYrCuq8y",
    "outputId": "05fd7e1a-87f9-4afb-93b3-2a7d354838de"
   },
   "outputs": [],
   "source": [
    "formula_max"
   ]
  }
 ],
 "metadata": {
  "colab": {
   "authorship_tag": "ABX9TyNeqy/r2GsZPsJxoVpIvoLS",
   "collapsed_sections": [],
   "name": "Lab Seleccion Fuerza Bruta y Stepwise.ipynb",
   "provenance": []
  },
  "kernelspec": {
   "display_name": "Python 3",
   "language": "python",
   "name": "python3"
  },
  "language_info": {
   "codemirror_mode": {
    "name": "ipython",
    "version": 3
   },
   "file_extension": ".py",
   "mimetype": "text/x-python",
   "name": "python",
   "nbconvert_exporter": "python",
   "pygments_lexer": "ipython3",
   "version": "3.8.3"
  }
 },
 "nbformat": 4,
 "nbformat_minor": 1
}
