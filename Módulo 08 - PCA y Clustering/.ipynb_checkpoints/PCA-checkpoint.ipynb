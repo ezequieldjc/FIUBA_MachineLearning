{
 "cells": [
  {
   "cell_type": "markdown",
   "metadata": {
    "id": "381kIbPEfgxK"
   },
   "source": [
    "# Principal Component Analysis (PCA)"
   ]
  },
  {
   "cell_type": "code",
   "execution_count": null,
   "metadata": {
    "executionInfo": {
     "elapsed": 1250,
     "status": "ok",
     "timestamp": 1604320253742,
     "user": {
      "displayName": "Ing. Carlos Arana",
      "photoUrl": "https://lh3.googleusercontent.com/a-/AOh14Gg2mwBvKtTbtPRg83K7tzte-qjSI81mIyMuBobcMA=s64",
      "userId": "14092082653727502284"
     },
     "user_tz": 180
    },
    "id": "bTP8q2Q5mjF4"
   },
   "outputs": [],
   "source": [
    "import numpy as np\n",
    "import pandas as pd\n",
    "import matplotlib.pyplot as plt\n",
    "import seaborn as sns\n",
    "\n",
    "np.set_printoptions(suppress=True)"
   ]
  },
  {
   "cell_type": "code",
   "execution_count": null,
   "metadata": {},
   "outputs": [],
   "source": [
    "# Vamos a explicar los parametros del modelo con un ejemplo simple\n",
    "# Generamos un arreglo aleatorio de datos\n",
    "\n",
    "# rng = np.random\n",
    "rng = np.random.RandomState(1)\n",
    "components = rng.rand(2, 2)\n",
    "X = np.dot(components, rng.randn(2, 200)).T\n",
    "plt.scatter(X[:, 0], X[:, 1])\n",
    "plt.axis('equal');"
   ]
  },
  {
   "cell_type": "code",
   "execution_count": null,
   "metadata": {},
   "outputs": [],
   "source": [
    "from sklearn.decomposition import PCA\n",
    "pca = PCA(n_components=2)\n",
    "pca.fit(X)"
   ]
  },
  {
   "cell_type": "code",
   "execution_count": null,
   "metadata": {},
   "outputs": [],
   "source": [
    "X_pca = pca.transform(X)"
   ]
  },
  {
   "cell_type": "code",
   "execution_count": null,
   "metadata": {},
   "outputs": [],
   "source": [
    "print(f'PCA components: \\n{pca.components_}')\n",
    "print(f'PCA Explained variance: {pca.explained_variance_}')"
   ]
  },
  {
   "cell_type": "code",
   "execution_count": null,
   "metadata": {},
   "outputs": [],
   "source": [
    "def draw_vector(v0, v1, ax=None):\n",
    "    ax = ax or plt.gca()\n",
    "    arrowprops=dict(arrowstyle='->',\n",
    "                    linewidth=2,\n",
    "                    shrinkA=0, \n",
    "                    shrinkB=0,\n",
    "                    color='r')\n",
    "    ax.annotate('', v1, v0, arrowprops=arrowprops)\n",
    "\n",
    "# plot data\n",
    "plt.scatter(X[:, 0], X[:, 1], alpha=0.5)\n",
    "plt.scatter(X_pca[:, 0], X_pca[:, 1], alpha=0.5, c='y')\n",
    "for length, vector in zip(pca.explained_variance_, pca.components_):\n",
    "    v = vector * 3 * np.sqrt(length)\n",
    "    draw_vector(pca.mean_, pca.mean_ + v)\n",
    "plt.axis('equal');"
   ]
  },
  {
   "cell_type": "markdown",
   "metadata": {
    "id": "qANbYEinvqPY"
   },
   "source": [
    "# Importamos dataset"
   ]
  },
  {
   "cell_type": "code",
   "execution_count": null,
   "metadata": {},
   "outputs": [],
   "source": [
    "df = pd.read_csv(\"dataset_agricultura.csv\")"
   ]
  },
  {
   "cell_type": "code",
   "execution_count": null,
   "metadata": {
    "colab": {
     "base_uri": "https://localhost:8080/",
     "height": 226
    },
    "executionInfo": {
     "elapsed": 1130,
     "status": "ok",
     "timestamp": 1604320260870,
     "user": {
      "displayName": "Ing. Carlos Arana",
      "photoUrl": "https://lh3.googleusercontent.com/a-/AOh14Gg2mwBvKtTbtPRg83K7tzte-qjSI81mIyMuBobcMA=s64",
      "userId": "14092082653727502284"
     },
     "user_tz": 180
    },
    "id": "oOzb8v3FpI_w",
    "outputId": "bcbcd4fd-103b-4b31-c686-89e82b3018f4"
   },
   "outputs": [],
   "source": [
    "df.head()"
   ]
  },
  {
   "cell_type": "code",
   "execution_count": null,
   "metadata": {
    "executionInfo": {
     "elapsed": 714,
     "status": "ok",
     "timestamp": 1604320262809,
     "user": {
      "displayName": "Ing. Carlos Arana",
      "photoUrl": "https://lh3.googleusercontent.com/a-/AOh14Gg2mwBvKtTbtPRg83K7tzte-qjSI81mIyMuBobcMA=s64",
      "userId": "14092082653727502284"
     },
     "user_tz": 180
    },
    "id": "hMBp0iHkpKa3"
   },
   "outputs": [],
   "source": [
    "df.drop(columns='ID', inplace=True)"
   ]
  },
  {
   "cell_type": "markdown",
   "metadata": {
    "id": "6qf-bXvAvtVm"
   },
   "source": [
    "# Preparamos la data"
   ]
  },
  {
   "cell_type": "code",
   "execution_count": null,
   "metadata": {
    "executionInfo": {
     "elapsed": 1338,
     "status": "ok",
     "timestamp": 1604320269837,
     "user": {
      "displayName": "Ing. Carlos Arana",
      "photoUrl": "https://lh3.googleusercontent.com/a-/AOh14Gg2mwBvKtTbtPRg83K7tzte-qjSI81mIyMuBobcMA=s64",
      "userId": "14092082653727502284"
     },
     "user_tz": 180
    },
    "id": "iGtxwvPrpkjA"
   },
   "outputs": [],
   "source": [
    "X = df.drop('Cultivo_Daño', axis=1)\n",
    "y = df['Cultivo_Daño']"
   ]
  },
  {
   "cell_type": "code",
   "execution_count": null,
   "metadata": {},
   "outputs": [],
   "source": [
    "from sklearn.preprocessing import StandardScaler\n",
    "from sklearn.model_selection import train_test_split\n",
    "\n",
    "Scaler = StandardScaler()\n",
    "\n",
    "X_scaled = Scaler.fit_transform(X)"
   ]
  },
  {
   "cell_type": "code",
   "execution_count": null,
   "metadata": {
    "executionInfo": {
     "elapsed": 1808,
     "status": "ok",
     "timestamp": 1604320288927,
     "user": {
      "displayName": "Ing. Carlos Arana",
      "photoUrl": "https://lh3.googleusercontent.com/a-/AOh14Gg2mwBvKtTbtPRg83K7tzte-qjSI81mIyMuBobcMA=s64",
      "userId": "14092082653727502284"
     },
     "user_tz": 180
    },
    "id": "UJZSJ5vKpIDQ"
   },
   "outputs": [],
   "source": [
    "from sklearn.model_selection import train_test_split\n",
    "X_train, X_val, y_train, y_val = train_test_split(X_scaled, y,\n",
    "                                                    test_size = 0.2,\n",
    "                                                    stratify = y,\n",
    "                                                    random_state = 15)"
   ]
  },
  {
   "cell_type": "code",
   "execution_count": null,
   "metadata": {
    "executionInfo": {
     "elapsed": 2432,
     "status": "ok",
     "timestamp": 1604320301275,
     "user": {
      "displayName": "Ing. Carlos Arana",
      "photoUrl": "https://lh3.googleusercontent.com/a-/AOh14Gg2mwBvKtTbtPRg83K7tzte-qjSI81mIyMuBobcMA=s64",
      "userId": "14092082653727502284"
     },
     "user_tz": 180
    },
    "id": "75IXxRB4f8pH"
   },
   "outputs": [],
   "source": [
    "# Ahora vamos a ver como utilizarlo con el dataset\n",
    "\n",
    "# Inicializamos el PCA\n",
    "pca = PCA(n_components=6, \n",
    "          svd_solver='full')\n",
    "\n",
    "# Entrenamos con los datos de prueba\n",
    "pca.fit(X_train)\n",
    "\n",
    "# convertimos tanto el X_train como el X_test\n",
    "X_train_pca = pca.transform(X_train)\n",
    "X_val_pca = pca.transform(X_val)"
   ]
  },
  {
   "cell_type": "code",
   "execution_count": null,
   "metadata": {},
   "outputs": [],
   "source": [
    "pca.explained_variance_ratio_.sum()"
   ]
  },
  {
   "cell_type": "code",
   "execution_count": null,
   "metadata": {
    "colab": {
     "base_uri": "https://localhost:8080/",
     "height": 279
    },
    "executionInfo": {
     "elapsed": 2598,
     "status": "ok",
     "timestamp": 1604320314145,
     "user": {
      "displayName": "Ing. Carlos Arana",
      "photoUrl": "https://lh3.googleusercontent.com/a-/AOh14Gg2mwBvKtTbtPRg83K7tzte-qjSI81mIyMuBobcMA=s64",
      "userId": "14092082653727502284"
     },
     "user_tz": 180
    },
    "id": "yNaQksQiPvQc",
    "outputId": "c9a9981e-f599-4522-c9d7-0ff4fc6d6cc2"
   },
   "outputs": [],
   "source": [
    "# ahora vamos a ver la varianza que tienen las variables del PCA\n",
    "sns.set_style('whitegrid')\n",
    "\n",
    "features = range(pca.n_components_)\n",
    "plt.figure(figsize=(20, 10))\n",
    "\n",
    "plt.bar(features, pca.explained_variance_ratio_)\n",
    "plt.xticks(features)\n",
    "plt.xlabel('PCA feature')\n",
    "plt.ylabel('Variance')\n",
    "\n",
    "plt.show()"
   ]
  },
  {
   "cell_type": "markdown",
   "metadata": {
    "id": "9r8kMSV9Qpb4"
   },
   "source": [
    "# Predicciones"
   ]
  },
  {
   "cell_type": "markdown",
   "metadata": {
    "id": "xGyPvXPkQtJF"
   },
   "source": [
    "Luego de realizar el analisis de componentes principales, podemos utilizar el resultado para armar un modelo de prediccion. En este caso volveremos a utilizar la regresion logistica, pero cambiaremos un poco el modelado del PCA."
   ]
  },
  {
   "cell_type": "code",
   "execution_count": null,
   "metadata": {
    "colab": {
     "base_uri": "https://localhost:8080/"
    },
    "executionInfo": {
     "elapsed": 1274,
     "status": "ok",
     "timestamp": 1604320345281,
     "user": {
      "displayName": "Ing. Carlos Arana",
      "photoUrl": "https://lh3.googleusercontent.com/a-/AOh14Gg2mwBvKtTbtPRg83K7tzte-qjSI81mIyMuBobcMA=s64",
      "userId": "14092082653727502284"
     },
     "user_tz": 180
    },
    "id": "V64Fc1NSQdfx",
    "outputId": "7a76fd4f-a0b1-4d58-b0b2-eccead222ff2"
   },
   "outputs": [],
   "source": [
    "# importamos la libreria de regresion logistica\n",
    "from sklearn.linear_model import LogisticRegression\n",
    "\n",
    "lr = LogisticRegression(max_iter=10000)\n",
    "\n",
    "lr.fit(X_train_pca, y_train)\n",
    "\n",
    "print('Los resultados son: \\n')\n",
    "print('El accuracy de prueba es de: {}'.format(lr.score(X_train_pca, y_train)))\n",
    "print('El accuracy de test es de: {}'.format(lr.score(X_val_pca, y_val)))"
   ]
  },
  {
   "cell_type": "code",
   "execution_count": null,
   "metadata": {},
   "outputs": [],
   "source": [
    "# Ahora vamos a probar con el mismo modelo de la semana pasada para ver la diferencia de performance\n",
    "\n",
    "import xgboost as xgb\n",
    "from sklearn.metrics import accuracy_score"
   ]
  },
  {
   "cell_type": "code",
   "execution_count": null,
   "metadata": {},
   "outputs": [],
   "source": [
    "xg_cl = xgb.XGBClassifier(objective='binary:logistic',\n",
    "                          learning_rate=1,\n",
    "                          reg_lambda=100,\n",
    "                          min_split_loss=1,\n",
    "                          colsample_bytree=0.5,\n",
    "                          n_estimators=100,\n",
    "                          seed=123)\n",
    "\n",
    "xg_cl.fit(X_train_pca, y_train)\n",
    "\n",
    "# Verifiquemos el accuracy del modelo para el train y val set\n",
    "\n",
    "y_train_pred = xg_cl.predict(X_train_pca)\n",
    "y_val_pred = xg_cl.predict(X_val_pca)\n",
    "\n",
    "print(f'Accuracy train: {accuracy_score(y_train, y_train_pred)}')\n",
    "print(f'Accuracy val: {accuracy_score(y_val, y_val_pred)}')"
   ]
  },
  {
   "cell_type": "code",
   "execution_count": null,
   "metadata": {},
   "outputs": [],
   "source": []
  }
 ],
 "metadata": {
  "colab": {
   "collapsed_sections": [],
   "name": "PCA.ipynb",
   "provenance": []
  },
  "kernelspec": {
   "display_name": "Python 3",
   "language": "python",
   "name": "python3"
  },
  "language_info": {
   "codemirror_mode": {
    "name": "ipython",
    "version": 3
   },
   "file_extension": ".py",
   "mimetype": "text/x-python",
   "name": "python",
   "nbconvert_exporter": "python",
   "pygments_lexer": "ipython3",
   "version": "3.8.3"
  }
 },
 "nbformat": 4,
 "nbformat_minor": 1
}
