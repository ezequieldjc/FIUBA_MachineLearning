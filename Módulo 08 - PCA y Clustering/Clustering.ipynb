{
 "cells": [
  {
   "cell_type": "markdown",
   "metadata": {
    "id": "qANbYEinvqPY"
   },
   "source": [
    "# Importamos dataset"
   ]
  },
  {
   "cell_type": "code",
   "execution_count": null,
   "metadata": {
    "executionInfo": {
     "elapsed": 2831,
     "status": "ok",
     "timestamp": 1604320002569,
     "user": {
      "displayName": "Ing. Carlos Arana",
      "photoUrl": "https://lh3.googleusercontent.com/a-/AOh14Gg2mwBvKtTbtPRg83K7tzte-qjSI81mIyMuBobcMA=s64",
      "userId": "14092082653727502284"
     },
     "user_tz": 180
    },
    "id": "bTP8q2Q5mjF4"
   },
   "outputs": [],
   "source": [
    "import numpy as np\n",
    "import pandas as pd\n",
    "import matplotlib.pyplot as plt\n",
    "import seaborn as sns"
   ]
  },
  {
   "cell_type": "code",
   "execution_count": null,
   "metadata": {
    "executionInfo": {
     "elapsed": 1672,
     "status": "ok",
     "timestamp": 1604320057206,
     "user": {
      "displayName": "Ing. Carlos Arana",
      "photoUrl": "https://lh3.googleusercontent.com/a-/AOh14Gg2mwBvKtTbtPRg83K7tzte-qjSI81mIyMuBobcMA=s64",
      "userId": "14092082653727502284"
     },
     "user_tz": 180
    },
    "id": "Re7c4tHAnJy0"
   },
   "outputs": [],
   "source": [
    "# importamos el dataset de Mall Customers\n",
    "mall = pd.read_csv(\"Mall_Customers.csv\")"
   ]
  },
  {
   "cell_type": "code",
   "execution_count": null,
   "metadata": {
    "colab": {
     "base_uri": "https://localhost:8080/",
     "height": 206
    },
    "executionInfo": {
     "elapsed": 1713,
     "status": "ok",
     "timestamp": 1604320062917,
     "user": {
      "displayName": "Ing. Carlos Arana",
      "photoUrl": "https://lh3.googleusercontent.com/a-/AOh14Gg2mwBvKtTbtPRg83K7tzte-qjSI81mIyMuBobcMA=s64",
      "userId": "14092082653727502284"
     },
     "user_tz": 180
    },
    "id": "oOzb8v3FpI_w",
    "outputId": "b72ef23c-3be7-4820-bae5-c7d8512312f6"
   },
   "outputs": [],
   "source": [
    "mall.head()"
   ]
  },
  {
   "cell_type": "code",
   "execution_count": null,
   "metadata": {
    "colab": {
     "base_uri": "https://localhost:8080/"
    },
    "executionInfo": {
     "elapsed": 2625,
     "status": "ok",
     "timestamp": 1604320070047,
     "user": {
      "displayName": "Ing. Carlos Arana",
      "photoUrl": "https://lh3.googleusercontent.com/a-/AOh14Gg2mwBvKtTbtPRg83K7tzte-qjSI81mIyMuBobcMA=s64",
      "userId": "14092082653727502284"
     },
     "user_tz": 180
    },
    "id": "2BHOeCulKpId",
    "outputId": "8d851994-a4b2-4eb5-d382-bdb3edb2a7bf"
   },
   "outputs": [],
   "source": [
    "mall.info()"
   ]
  },
  {
   "cell_type": "code",
   "execution_count": null,
   "metadata": {
    "executionInfo": {
     "elapsed": 1154,
     "status": "ok",
     "timestamp": 1604320083528,
     "user": {
      "displayName": "Ing. Carlos Arana",
      "photoUrl": "https://lh3.googleusercontent.com/a-/AOh14Gg2mwBvKtTbtPRg83K7tzte-qjSI81mIyMuBobcMA=s64",
      "userId": "14092082653727502284"
     },
     "user_tz": 180
    },
    "id": "zHQzgcMrpjSJ"
   },
   "outputs": [],
   "source": [
    "# solo utilizaremos la columnas 4 y 5\n",
    "# mall.drop(columns=['CustomerID', 'Genre', 'Age'], inplace=True)\n",
    "mall.drop(columns=['CustomerID', 'Genre', 'Age'], inplace=True)"
   ]
  },
  {
   "cell_type": "markdown",
   "metadata": {
    "id": "6qf-bXvAvtVm"
   },
   "source": [
    "# Clustering"
   ]
  },
  {
   "cell_type": "code",
   "execution_count": null,
   "metadata": {
    "executionInfo": {
     "elapsed": 1146,
     "status": "ok",
     "timestamp": 1604320087863,
     "user": {
      "displayName": "Ing. Carlos Arana",
      "photoUrl": "https://lh3.googleusercontent.com/a-/AOh14Gg2mwBvKtTbtPRg83K7tzte-qjSI81mIyMuBobcMA=s64",
      "userId": "14092082653727502284"
     },
     "user_tz": 180
    },
    "id": "5_Je6ZCCJN4W"
   },
   "outputs": [],
   "source": [
    "# importamos las librerias necesarias para realizar el clustering\n",
    "from sklearn.cluster import KMeans"
   ]
  },
  {
   "cell_type": "code",
   "execution_count": null,
   "metadata": {
    "executionInfo": {
     "elapsed": 1102,
     "status": "ok",
     "timestamp": 1604320098030,
     "user": {
      "displayName": "Ing. Carlos Arana",
      "photoUrl": "https://lh3.googleusercontent.com/a-/AOh14Gg2mwBvKtTbtPRg83K7tzte-qjSI81mIyMuBobcMA=s64",
      "userId": "14092082653727502284"
     },
     "user_tz": 180
    },
    "id": "9xo-zPksIz6Q"
   },
   "outputs": [],
   "source": [
    "# inicializamos un diccionario para poder guardar la 'inertia' de cada grupo\n",
    "clusters = {'n': [], 'inertia': []}"
   ]
  },
  {
   "cell_type": "code",
   "execution_count": null,
   "metadata": {
    "executionInfo": {
     "elapsed": 1045,
     "status": "ok",
     "timestamp": 1604320100002,
     "user": {
      "displayName": "Ing. Carlos Arana",
      "photoUrl": "https://lh3.googleusercontent.com/a-/AOh14Gg2mwBvKtTbtPRg83K7tzte-qjSI81mIyMuBobcMA=s64",
      "userId": "14092082653727502284"
     },
     "user_tz": 180
    },
    "id": "Mhfg6uFhIzn-"
   },
   "outputs": [],
   "source": [
    "# utilizaremos un bucle for para probar diferentes cantidades de clusters y almacenarlas en el diccionario\n",
    "# luego de este ejercicio utilizaremos el metodo del codo (elbow) para encontrar la cantidad optima\n",
    "\n",
    "for i in range(1, 11):\n",
    "  model = KMeans(n_clusters=i, random_state=123)\n",
    "  model.fit(mall)\n",
    "  inertia = model.inertia_\n",
    "\n",
    "  clusters['n'].append(i)\n",
    "  clusters['inertia'].append(inertia)"
   ]
  },
  {
   "cell_type": "code",
   "execution_count": null,
   "metadata": {
    "colab": {
     "base_uri": "https://localhost:8080/",
     "height": 297
    },
    "executionInfo": {
     "elapsed": 1126,
     "status": "ok",
     "timestamp": 1604320102800,
     "user": {
      "displayName": "Ing. Carlos Arana",
      "photoUrl": "https://lh3.googleusercontent.com/a-/AOh14Gg2mwBvKtTbtPRg83K7tzte-qjSI81mIyMuBobcMA=s64",
      "userId": "14092082653727502284"
     },
     "user_tz": 180
    },
    "id": "lMvSbTh1Izb8",
    "outputId": "d08d2c82-7989-4b53-940b-bfee1100a53c"
   },
   "outputs": [],
   "source": [
    "sns.set_style('whitegrid')\n",
    "pd.DataFrame(clusters).plot(x='n', y='inertia', kind='line', marker='o')"
   ]
  },
  {
   "cell_type": "code",
   "execution_count": null,
   "metadata": {
    "executionInfo": {
     "elapsed": 1040,
     "status": "ok",
     "timestamp": 1604320112902,
     "user": {
      "displayName": "Ing. Carlos Arana",
      "photoUrl": "https://lh3.googleusercontent.com/a-/AOh14Gg2mwBvKtTbtPRg83K7tzte-qjSI81mIyMuBobcMA=s64",
      "userId": "14092082653727502284"
     },
     "user_tz": 180
    },
    "id": "d7ny8-gWM1f8"
   },
   "outputs": [],
   "source": [
    "# vemos que la cantidad optima de clusters es 5\n",
    "# armamos un modelo para predecir los valores actuales del dataset mall\n",
    "kmeans = KMeans(n_clusters=5)\n",
    "\n",
    "# entrenamos con los datos del dataset\n",
    "kmeans.fit(mall)\n",
    "\n",
    "# generamos un arreglo donde se almacenan las clases predichas por el modelo\n",
    "pred_class = kmeans.predict(mall)\n",
    "\n",
    "# adicionamos al dataframe mall el valor de cada clase en una columna nueva\n",
    "mall['Clase'] = pred_class"
   ]
  },
  {
   "cell_type": "code",
   "execution_count": null,
   "metadata": {
    "colab": {
     "base_uri": "https://localhost:8080/",
     "height": 297
    },
    "executionInfo": {
     "elapsed": 1760,
     "status": "ok",
     "timestamp": 1604320117562,
     "user": {
      "displayName": "Ing. Carlos Arana",
      "photoUrl": "https://lh3.googleusercontent.com/a-/AOh14Gg2mwBvKtTbtPRg83K7tzte-qjSI81mIyMuBobcMA=s64",
      "userId": "14092082653727502284"
     },
     "user_tz": 180
    },
    "id": "dNb_tIHBN7-W",
    "outputId": "7234f59e-d75d-493f-d4f5-38142bc29e0f"
   },
   "outputs": [],
   "source": [
    "# visualizamos las clases en el scatterplot a traves de los diferentes colores\n",
    "\n",
    "sns.scatterplot(x='Annual Income (k$)', y='Spending Score (1-100)', hue='Clase', data=mall, palette=sns.color_palette(\"Paired\", 5))"
   ]
  },
  {
   "cell_type": "markdown",
   "metadata": {
    "id": "381kIbPEfgxK"
   },
   "source": [
    "# Clustering Jerarquico\n"
   ]
  },
  {
   "cell_type": "code",
   "execution_count": null,
   "metadata": {
    "executionInfo": {
     "elapsed": 1125,
     "status": "ok",
     "timestamp": 1604320162633,
     "user": {
      "displayName": "Ing. Carlos Arana",
      "photoUrl": "https://lh3.googleusercontent.com/a-/AOh14Gg2mwBvKtTbtPRg83K7tzte-qjSI81mIyMuBobcMA=s64",
      "userId": "14092082653727502284"
     },
     "user_tz": 180
    },
    "id": "qbvFwfQYfuzm"
   },
   "outputs": [],
   "source": [
    "# en este caso vamos a necesitar utilizar la libreria de SciPy\n",
    "\n",
    "from scipy.cluster.hierarchy import linkage, dendrogram"
   ]
  },
  {
   "cell_type": "code",
   "execution_count": null,
   "metadata": {
    "colab": {
     "base_uri": "https://localhost:8080/",
     "height": 571
    },
    "executionInfo": {
     "elapsed": 5375,
     "status": "ok",
     "timestamp": 1604320169210,
     "user": {
      "displayName": "Ing. Carlos Arana",
      "photoUrl": "https://lh3.googleusercontent.com/a-/AOh14Gg2mwBvKtTbtPRg83K7tzte-qjSI81mIyMuBobcMA=s64",
      "userId": "14092082653727502284"
     },
     "user_tz": 180
    },
    "id": "75IXxRB4f8pH",
    "outputId": "7283a45d-813a-44bb-e64a-cedbbf1970b2"
   },
   "outputs": [],
   "source": [
    "# vamos a generar el dendograma con distancia euclidea y disimilitud ward\n",
    "# la computacion del algoritmo se genera en la siguiente linea de codigo\n",
    "dend = linkage(mall, method='ward', metric='euclidean')\n",
    "\n",
    "# utilizamos la funcion dendogram que tambien importamos de SciPy para graficarlo\n",
    "plt.figure(figsize=(25, 15))\n",
    "dendrogram(dend, leaf_rotation=90, leaf_font_size=6)\n",
    "plt.show()"
   ]
  },
  {
   "cell_type": "code",
   "execution_count": null,
   "metadata": {
    "executionInfo": {
     "elapsed": 1180,
     "status": "ok",
     "timestamp": 1604320172873,
     "user": {
      "displayName": "Ing. Carlos Arana",
      "photoUrl": "https://lh3.googleusercontent.com/a-/AOh14Gg2mwBvKtTbtPRg83K7tzte-qjSI81mIyMuBobcMA=s64",
      "userId": "14092082653727502284"
     },
     "user_tz": 180
    },
    "id": "jxjVBxp5VULb"
   },
   "outputs": [],
   "source": [
    "# ahora podemos elegir a la altura sobre la cual deseamos cortar el cluster\n",
    "# para esto debemos importar otra funcionalidad de SciPy llamada fcluster\n",
    "\n",
    "from scipy.cluster.hierarchy import fcluster\n",
    "\n",
    "# el proceso es sencillo, simplemente elegimos como argumentos  el modelo que hicimos\n",
    "# previamente llamado dend, a que distancia queremos generar los clusters y con que criterio\n",
    "# 150 parece un buen punto para el corte, y pensemos, cuantos clusters deberian aparecer como maximo\n",
    "\n",
    "labels = fcluster(dend, 150, criterion='distance')"
   ]
  },
  {
   "cell_type": "code",
   "execution_count": null,
   "metadata": {
    "colab": {
     "base_uri": "https://localhost:8080/"
    },
    "executionInfo": {
     "elapsed": 1085,
     "status": "ok",
     "timestamp": 1604320181157,
     "user": {
      "displayName": "Ing. Carlos Arana",
      "photoUrl": "https://lh3.googleusercontent.com/a-/AOh14Gg2mwBvKtTbtPRg83K7tzte-qjSI81mIyMuBobcMA=s64",
      "userId": "14092082653727502284"
     },
     "user_tz": 180
    },
    "id": "GFPZHQBCWp36",
    "outputId": "b401eb23-8625-46f7-ded8-4c834d9b4760"
   },
   "outputs": [],
   "source": [
    "# veamos cual es el valor mas alto de un cluster, tiene sentido en funcion al grafico?\n",
    "max(labels)"
   ]
  },
  {
   "cell_type": "code",
   "execution_count": null,
   "metadata": {
    "executionInfo": {
     "elapsed": 1450,
     "status": "ok",
     "timestamp": 1604320185515,
     "user": {
      "displayName": "Ing. Carlos Arana",
      "photoUrl": "https://lh3.googleusercontent.com/a-/AOh14Gg2mwBvKtTbtPRg83K7tzte-qjSI81mIyMuBobcMA=s64",
      "userId": "14092082653727502284"
     },
     "user_tz": 180
    },
    "id": "PNckll_SWZJk"
   },
   "outputs": [],
   "source": [
    "# solo nos falta agregar al dataframe del mall esta nueva categorizacion\n",
    "# para ello crearemos una nueva columna la cual llamaremos clase_dend\n",
    "\n",
    "mall['clase_dend'] = labels"
   ]
  },
  {
   "cell_type": "code",
   "execution_count": null,
   "metadata": {
    "colab": {
     "base_uri": "https://localhost:8080/",
     "height": 297
    },
    "executionInfo": {
     "elapsed": 1407,
     "status": "ok",
     "timestamp": 1604320188823,
     "user": {
      "displayName": "Ing. Carlos Arana",
      "photoUrl": "https://lh3.googleusercontent.com/a-/AOh14Gg2mwBvKtTbtPRg83K7tzte-qjSI81mIyMuBobcMA=s64",
      "userId": "14092082653727502284"
     },
     "user_tz": 180
    },
    "id": "mCZX9mMGXAb3",
    "outputId": "64ad1a14-7046-46ea-97b8-a2dfb5f0c901"
   },
   "outputs": [],
   "source": [
    "# visualizamos las clases en el scatterplot a traves de los diferentes colores\n",
    "sns.scatterplot(x='Annual Income (k$)', y='Spending Score (1-100)', hue='clase_dend', data=mall, palette=sns.color_palette(\"Paired\", 5))"
   ]
  },
  {
   "cell_type": "markdown",
   "metadata": {
    "id": "381kIbPEfgxK"
   },
   "source": [
    "# Actividad\n",
    "Realizar el mismo ejercicio cambiando el metodo de calculo de distancia por el que calcula el minimo de distancia entre los nuevos clusters y por el que calcula la distancia maxima"
   ]
  }
 ],
 "metadata": {
  "colab": {
   "collapsed_sections": [],
   "name": "Clustering.ipynb",
   "provenance": [],
   "toc_visible": true
  },
  "kernelspec": {
   "display_name": "Python 3",
   "language": "python",
   "name": "python3"
  },
  "language_info": {
   "codemirror_mode": {
    "name": "ipython",
    "version": 3
   },
   "file_extension": ".py",
   "mimetype": "text/x-python",
   "name": "python",
   "nbconvert_exporter": "python",
   "pygments_lexer": "ipython3",
   "version": "3.8.3"
  }
 },
 "nbformat": 4,
 "nbformat_minor": 1
}
